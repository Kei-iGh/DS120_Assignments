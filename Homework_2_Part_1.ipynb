{
 "cells": [
  {
   "cell_type": "markdown",
   "metadata": {},
   "source": [
    "# Homework 2 Part 1\n",
    "\n",
    "Name: Kristina\n",
    "<br>\n",
    "Surname: Ghahramanyan"
   ]
  },
  {
   "cell_type": "code",
   "execution_count": 7,
   "metadata": {},
   "outputs": [],
   "source": [
    "import numpy as np"
   ]
  },
  {
   "cell_type": "markdown",
   "metadata": {},
   "source": [
    "**Problem 1**\n",
    "\n",
    "Create a numpy array of dimensions (5,5) with random numbers in range \\[0, 1) and print its shape, number of dimensions and data type of its elements."
   ]
  },
  {
   "cell_type": "code",
   "execution_count": 8,
   "metadata": {},
   "outputs": [
    {
     "name": "stdout",
     "output_type": "stream",
     "text": [
      "[[0.62937893 0.09997884 0.59172568 0.88016394 0.58224659]\n",
      " [0.50821368 0.68772583 0.65402422 0.01020005 0.92209997]\n",
      " [0.46482593 0.39679028 0.33326197 0.37252638 0.38987137]\n",
      " [0.12440553 0.77441223 0.67468397 0.87715298 0.10181675]\n",
      " [0.28869301 0.96448492 0.78475268 0.47036851 0.32259436]]\n",
      "\n",
      " Shape of the array is (5, 5) \n",
      " Number of dimensions of the array is 2 \n",
      " Data type of array's elements is float64\n"
     ]
    }
   ],
   "source": [
    "import random\n",
    "b = []\n",
    "def func(lst):\n",
    "    while len(lst) < 5:\n",
    "        lst.append(random.random())\n",
    "    return lst\n",
    "\n",
    "while len(b) < 5:\n",
    "    b.append(func([]))\n",
    "\n",
    "arr = np.array(b)\n",
    "print(arr)\n",
    "\n",
    "#The same code as above, but with a function np.random.random()\n",
    "#arr = np.random.random((5,5))\n",
    "#print(arr)\n",
    "\n",
    "print(f\"\\n Shape of the array is {arr.shape} \\n Number of dimensions of the array is {arr.ndim} \\n Data type of array's elements is {arr.dtype}\")"
   ]
  },
  {
   "cell_type": "markdown",
   "metadata": {},
   "source": [
    "**Problem 2**\n",
    "\n",
    "Change the data type of elements of the numpy array created in Problem 1 to int and keep only even numbers in the array (the shape of output does not matter)."
   ]
  },
  {
   "cell_type": "code",
   "execution_count": 9,
   "metadata": {},
   "outputs": [
    {
     "name": "stdout",
     "output_type": "stream",
     "text": [
      "[[0 0 0 0 0]\n",
      " [0 0 0 0 0]\n",
      " [0 0 0 0 0]\n",
      " [0 0 0 0 0]\n",
      " [0 0 0 0 0]]\n",
      "int32\n",
      "[0 0 0 0 0 0 0 0 0 0 0 0 0 0 0 0 0 0 0 0 0 0 0 0 0]\n"
     ]
    }
   ],
   "source": [
    "#if I understood correctly, the numbers which were more than 0.5 should have been converted to 1s instead of 0s.\n",
    "#I tried to create the original array with different ways, but after changing the data type, I never could achieve 1s. \n",
    "#Nonetheless, the code works, if we change the range to [0,1], it actually outputs only 0s.\n",
    "arr2 = arr.astype(int)\n",
    "print(arr2)\n",
    "print(arr2.dtype)\n",
    "print(arr2[arr2%2==0])"
   ]
  },
  {
   "cell_type": "markdown",
   "metadata": {},
   "source": [
    "**Problem 3**\n",
    "\n",
    "Create a numpy array of zeros, a numpy arrays of ones, and an identity matrix of shape (7,7) (all 3). Sum the arrays and print the result."
   ]
  },
  {
   "cell_type": "code",
   "execution_count": 24,
   "metadata": {},
   "outputs": [
    {
     "name": "stdout",
     "output_type": "stream",
     "text": [
      " Array of zeros \n",
      "[[0 0 0 0 0 0 0]\n",
      " [0 0 0 0 0 0 0]\n",
      " [0 0 0 0 0 0 0]\n",
      " [0 0 0 0 0 0 0]\n",
      " [0 0 0 0 0 0 0]\n",
      " [0 0 0 0 0 0 0]\n",
      " [0 0 0 0 0 0 0]] \n",
      "\n",
      " Array of ones \n",
      " [[1 1 1 1 1 1 1]\n",
      " [1 1 1 1 1 1 1]\n",
      " [1 1 1 1 1 1 1]\n",
      " [1 1 1 1 1 1 1]\n",
      " [1 1 1 1 1 1 1]\n",
      " [1 1 1 1 1 1 1]\n",
      " [1 1 1 1 1 1 1]] \n",
      "\n",
      " Identity matrix \n",
      " [[1 0 0 0 0 0 0]\n",
      " [0 1 0 0 0 0 0]\n",
      " [0 0 1 0 0 0 0]\n",
      " [0 0 0 1 0 0 0]\n",
      " [0 0 0 0 1 0 0]\n",
      " [0 0 0 0 0 1 0]\n",
      " [0 0 0 0 0 0 1]] \n",
      "\n",
      "\n",
      "Sum of the arrays \n",
      " [[2 1 1 1 1 1 1]\n",
      " [1 2 1 1 1 1 1]\n",
      " [1 1 2 1 1 1 1]\n",
      " [1 1 1 2 1 1 1]\n",
      " [1 1 1 1 2 1 1]\n",
      " [1 1 1 1 1 2 1]\n",
      " [1 1 1 1 1 1 2]]\n"
     ]
    }
   ],
   "source": [
    "arrof0 = np.zeros((7,7),dtype=int)\n",
    "arrof1 = np.ones((7,7),dtype=int)\n",
    "mat = np.eye((7), dtype=int)\n",
    "print(f\" Array of zeros \\n{arrof0} \\n\\n Array of ones \\n {arrof1} \\n\\n Identity matrix \\n {mat} \\n\\n\")\n",
    "final = arrof0 + arrof1 + mat\n",
    "print(f\"Sum of the arrays \\n {final}\")"
   ]
  },
  {
   "cell_type": "markdown",
   "metadata": {},
   "source": [
    "**Problem 4**\n",
    "\n",
    "Create 10x10 multiplication table as a numpy array."
   ]
  },
  {
   "cell_type": "code",
   "execution_count": 25,
   "metadata": {},
   "outputs": [
    {
     "ename": "SyntaxError",
     "evalue": "invalid syntax (<ipython-input-25-a569d510e5bd>, line 2)",
     "output_type": "error",
     "traceback": [
      "\u001b[1;36m  File \u001b[1;32m\"<ipython-input-25-a569d510e5bd>\"\u001b[1;36m, line \u001b[1;32m2\u001b[0m\n\u001b[1;33m    [[  1   2   3   4   5   6   7   8   9  10]\u001b[0m\n\u001b[1;37m            ^\u001b[0m\n\u001b[1;31mSyntaxError\u001b[0m\u001b[1;31m:\u001b[0m invalid syntax\n"
     ]
    }
   ],
   "source": [
    "# Here is the output\n",
    "[[  1   2   3   4   5   6   7   8   9  10]\n",
    " [  2   4   6   8  10  12  14  16  18  20]\n",
    " [  3   6   9  12  15  18  21  24  27  30]\n",
    " [  4   8  12  16  20  24  28  32  36  40]\n",
    " [  5  10  15  20  25  30  35  40  45  50]\n",
    " [  6  12  18  24  30  36  42  48  54  60]\n",
    " [  7  14  21  28  35  42  49  56  63  70]\n",
    " [  8  16  24  32  40  48  56  64  72  80]\n",
    " [  9  18  27  36  45  54  63  72  81  90]\n",
    " [ 10  20  30  40  50  60  70  80  90 100]]"
   ]
  },
  {
   "cell_type": "code",
   "execution_count": 26,
   "metadata": {},
   "outputs": [
    {
     "name": "stdout",
     "output_type": "stream",
     "text": [
      "[[  1   2   3   4   5   6   7   8   9  10]\n",
      " [  2   4   6   8  10  12  14  16  18  20]\n",
      " [  3   6   9  12  15  18  21  24  27  30]\n",
      " [  4   8  12  16  20  24  28  32  36  40]\n",
      " [  5  10  15  20  25  30  35  40  45  50]\n",
      " [  6  12  18  24  30  36  42  48  54  60]\n",
      " [  7  14  21  28  35  42  49  56  63  70]\n",
      " [  8  16  24  32  40  48  56  64  72  80]\n",
      " [  9  18  27  36  45  54  63  72  81  90]\n",
      " [ 10  20  30  40  50  60  70  80  90 100]]\n"
     ]
    }
   ],
   "source": [
    "arrtable = np.ones((10,10),dtype=int)\n",
    "\n",
    "for i in range(10):\n",
    "    for j in range(10):\n",
    "        arrtable[i][j] = (i+1) * (j+1)\n",
    "        \n",
    "        \n",
    "print(arrtable)"
   ]
  },
  {
   "cell_type": "markdown",
   "metadata": {},
   "source": [
    "**Problem 5**\n",
    "\n",
    "Use np.r_ function to generate an array of all single digit precision floating numbers between [0,1] .\n",
    "The numbers are 0. , 0.1, 0.2, 0.3, 0.4, 0.5, 0.6, 0.7, 0.8, 0.9, and 1. ."
   ]
  },
  {
   "cell_type": "code",
   "execution_count": 27,
   "metadata": {},
   "outputs": [
    {
     "name": "stdout",
     "output_type": "stream",
     "text": [
      "[0.  0.1 0.2 0.3 0.4 0.5 0.6 0.7 0.8 0.9 1. ]\n"
     ]
    }
   ],
   "source": [
    "a = np.r_[0:1.1:0.1]\n",
    "print(a)\n",
    "\n",
    "# same thing with arange\n",
    "#b = np.arange(0, 1.1, 0.1, dtype=float)\n",
    "#print(b)"
   ]
  },
  {
   "cell_type": "markdown",
   "metadata": {},
   "source": [
    "**Problem 6**\n",
    "\n",
    "Use np.c_ function to generate a numpy array where the first column contains even integers between [1,10] and the second columns contain the odd numbers in the same range."
   ]
  },
  {
   "cell_type": "code",
   "execution_count": 28,
   "metadata": {},
   "outputs": [
    {
     "name": "stdout",
     "output_type": "stream",
     "text": [
      "[[ 2  1]\n",
      " [ 4  3]\n",
      " [ 6  5]\n",
      " [ 8  7]\n",
      " [10  9]]\n"
     ]
    }
   ],
   "source": [
    "c = np.c_[2:11:2, 1:11:2]\n",
    "print(c)"
   ]
  },
  {
   "cell_type": "markdown",
   "metadata": {},
   "source": [
    "**Problem 7**\n",
    "\n",
    "Generate a 10000x10000 dimensional matrix with numpy zeroes, resizing numpy array with one element equal to 0, tiling list [0], array+list operations with list [0], and array+list_comprehension approaches, and calculate the execution time."
   ]
  },
  {
   "cell_type": "code",
   "execution_count": 30,
   "metadata": {},
   "outputs": [
    {
     "name": "stdout",
     "output_type": "stream",
     "text": [
      "17.2 µs ± 57.3 ns per loop (mean ± std. dev. of 7 runs, 100000 loops each)\n",
      "72.5 ms ± 4.47 ms per loop (mean ± std. dev. of 7 runs, 10 loops each)\n",
      "293 ms ± 6.81 ms per loop (mean ± std. dev. of 7 runs, 1 loop each)\n",
      "474 µs ± 12.6 µs per loop (mean ± std. dev. of 7 runs, 1000 loops each)\n",
      "926 µs ± 46.4 µs per loop (mean ± std. dev. of 7 runs, 1000 loops each)\n"
     ]
    }
   ],
   "source": [
    "%timeit np.zeros((10000,10000),dtype=int)\n",
    "\n",
    "%timeit np.array([0]).resize(10000,10000)\n",
    "\n",
    "%timeit np.tile(np.array([0]), (10000, 10000))\n",
    "\n",
    "%timeit np.array([0] * 10000)\n",
    "\n",
    "%timeit np.array([0 * i for i in range(10000)])"
   ]
  },
  {
   "cell_type": "markdown",
   "metadata": {},
   "source": [
    "\n",
    "\n",
    "**Problem 8**\n",
    "\n",
    "Generate an one-dimensional array of integers between [0,31337] and compute the mean, variance, max, and min of that array. Perform the same operations using built-in Python operations and list comprehension. Calculate the execution time in both cases."
   ]
  },
  {
   "cell_type": "code",
   "execution_count": 31,
   "metadata": {},
   "outputs": [
    {
     "name": "stdout",
     "output_type": "stream",
     "text": [
      " Mean: 15668.0\n",
      "29.2 µs ± 296 ns per loop (mean ± std. dev. of 7 runs, 10000 loops each)\n",
      "\n",
      " Variance: 81833964.0\n",
      "80.1 µs ± 1.41 µs per loop (mean ± std. dev. of 7 runs, 10000 loops each)\n",
      "\n",
      " Max: 31336\n",
      "18.2 µs ± 184 ns per loop (mean ± std. dev. of 7 runs, 100000 loops each)\n",
      "\n",
      " Min: 0\n",
      "18.3 µs ± 223 ns per loop (mean ± std. dev. of 7 runs, 100000 loops each)\n",
      "\n",
      "\n",
      "\n",
      " Mean: 15668.0\n",
      "3.55 ms ± 33.5 µs per loop (mean ± std. dev. of 7 runs, 100 loops each)\n",
      "\n",
      " Variance: [81833964.0]\n",
      "1min 54s ± 1.5 s per loop (mean ± std. dev. of 7 runs, 1 loop each)\n",
      "\n",
      " Max: 31336\n",
      "7.56 ms ± 39.5 µs per loop (mean ± std. dev. of 7 runs, 100 loops each)\n",
      "\n",
      " Min: 0\n",
      "11.8 ms ± 224 µs per loop (mean ± std. dev. of 7 runs, 100 loops each)\n"
     ]
    }
   ],
   "source": [
    "arrone = np.arange(0,31337)\n",
    "\n",
    "print(f\" Mean: {arrone.mean()}\")\n",
    "%timeit arrone.mean()\n",
    "\n",
    "print(f\"\\n Variance: {arrone.var()}\")\n",
    "%timeit arrone.var()\n",
    "\n",
    "print(f\"\\n Max: {arrone.max()}\")\n",
    "%timeit arrone.max()\n",
    "\n",
    "print(f\"\\n Min: {arrone.min()}\")\n",
    "%timeit arrone.min()\n",
    "\n",
    "\n",
    "print(\"\\n\")\n",
    "\n",
    "\n",
    "print(f\"\\n Mean: {sum(arrone) / len(arrone)}\")\n",
    "%timeit sum(arrone) / len(arrone)\n",
    "\n",
    "print(f\"\\n Variance: {[sum((i - (sum(arrone)/len(arrone))) ** 2 for i in arrone) / len(arrone)]}\")\n",
    "%timeit [sum((i - (sum(arrone)/len(arrone))) ** 2 for i in arrone) / len(arrone)] #works, but takes a really long time\n",
    "#same code as above (Variance), but runs much faster\n",
    "#mean = sum(arrone) / len(arrone)\n",
    "#l = len(arrone)\n",
    "#%timeit [sum((i - mean) ** 2 for i in arrone) / l]\n",
    "\n",
    "print(f\"\\n Max: {max([i for i in arrone if i > arrone[0]])}\")\n",
    "%timeit max([i for i in arrone if i > arrone[0]])\n",
    "\n",
    "print(f\"\\n Min: {min([i if arrone[0] == i else arrone[0] for i in arrone])}\")\n",
    "%timeit min([i if arrone[0] == i else arrone[0] for i in arrone])"
   ]
  },
  {
   "cell_type": "markdown",
   "metadata": {},
   "source": [
    "**Problem 9**\n",
    "\n",
    "Generate a diagonal matrix with shape (5,5) containing elements in range [1,5] and rotate the matrix by 180 degrees using slicing. The output will be:\n",
    "\n",
    "[[5, 0, 0, 0, 0],\n",
    "\n",
    "[0, 4, 0, 0, 0],\n",
    "\n",
    "[0, 0, 3, 0, 0],\n",
    "\n",
    "[0, 0, 0, 2, 0],\n",
    "\n",
    "[0, 0, 0, 0, 1]]"
   ]
  },
  {
   "cell_type": "code",
   "execution_count": 32,
   "metadata": {},
   "outputs": [
    {
     "name": "stdout",
     "output_type": "stream",
     "text": [
      "[[1 0 0 0 0]\n",
      " [0 2 0 0 0]\n",
      " [0 0 3 0 0]\n",
      " [0 0 0 4 0]\n",
      " [0 0 0 0 5]]\n",
      "[[5 0 0 0 0]\n",
      " [0 4 0 0 0]\n",
      " [0 0 3 0 0]\n",
      " [0 0 0 2 0]\n",
      " [0 0 0 0 1]]\n"
     ]
    }
   ],
   "source": [
    "v = np.arange(1,6)\n",
    "m = np.diag(v)\n",
    "print(m)\n",
    "for i in range(len(m)):\n",
    "    for j in range(len(m)):\n",
    "        if i == j:\n",
    "            m[i][j] = len(m)-i\n",
    "\n",
    "print(m)\n",
    "\n",
    "#Solution 2\n",
    "#p = np.diag((5,4,3,2,1))\n",
    "#print(p)\n",
    "\n",
    "#Solution 3\n",
    "#n = np.array([5,4,3,2,1])\n",
    "#print(np.diag(n))"
   ]
  },
  {
   "cell_type": "markdown",
   "metadata": {},
   "source": [
    "**Problem 10**\n",
    "\n",
    "Generate 4 matrices of random integers in range \\[10,20) with shape(3,3). Use hstack and vstack functions to obtain a 6 by 6 matrix from those 4 matrices. Do the same with np.concatenate function."
   ]
  },
  {
   "cell_type": "code",
   "execution_count": 14,
   "metadata": {},
   "outputs": [
    {
     "name": "stdout",
     "output_type": "stream",
     "text": [
      " First Matrix: \n",
      " [[11 19 14]\n",
      " [18 12 19]\n",
      " [18 14 15]] \n",
      "\n",
      " Second Matrix: \n",
      " [[13 15 18]\n",
      " [18 18 16]\n",
      " [16 12 11]] \n",
      "\n",
      " Third Matrix: \n",
      " [[19 14 10]\n",
      " [19 18 15]\n",
      " [10 19 19]] \n",
      "\n",
      " Fourth Matrix: \n",
      " [[11 15 11]\n",
      " [11 15 14]\n",
      " [10 10 14]] \n",
      "\n",
      "\n",
      " Stacked Matrix: \n",
      " [[11 19 14 13 15 18]\n",
      " [18 12 19 18 18 16]\n",
      " [18 14 15 16 12 11]\n",
      " [19 14 10 11 15 11]\n",
      " [19 18 15 11 15 14]\n",
      " [10 19 19 10 10 14]] \n",
      "\n",
      " Second Stacked Matrix: \n",
      " [[11 19 14 19 14 10]\n",
      " [18 12 19 19 18 15]\n",
      " [18 14 15 10 19 19]\n",
      " [13 15 18 11 15 11]\n",
      " [18 18 16 11 15 14]\n",
      " [16 12 11 10 10 14]]\n"
     ]
    }
   ],
   "source": [
    "mat1 = np.random.randint(10,20,(3,3))\n",
    "mat2 = np.random.randint(10,20,(3,3))\n",
    "mat3 = np.random.randint(10,20,(3,3))\n",
    "mat4 = np.random.randint(10,20,(3,3))\n",
    "print(f\" First Matrix: \\n {mat1} \\n\\n Second Matrix: \\n {mat2} \\n\\n Third Matrix: \\n {mat3} \\n\\n Fourth Matrix: \\n {mat4} \\n\\n\")\n",
    "\n",
    "mat6by3one = np.hstack((mat1,mat2))\n",
    "mat6by3two = np.hstack((mat3,mat4))\n",
    "mat6by6 = np.vstack((mat6by3one, mat6by3two))\n",
    "print(f\" Stacked Matrix: \\n {mat6by6} \\n\")\n",
    "\n",
    "\n",
    "mataxis0one = np.concatenate((mat1,mat2), axis = 0)\n",
    "mataxis0two = np.concatenate((mat3,mat4), axis = 0)\n",
    "mat6by6two = np.concatenate((mataxis0one,mataxis0two), axis = 1)\n",
    "print(f\" Second Stacked Matrix: \\n {mat6by6two}\")"
   ]
  },
  {
   "cell_type": "markdown",
   "metadata": {},
   "source": [
    "**Problem 11**\n",
    "\n",
    "Generate a 100x100 dimensional array containing only integer 100 and flatten that array using reshape() function."
   ]
  },
  {
   "cell_type": "code",
   "execution_count": 5,
   "metadata": {},
   "outputs": [
    {
     "name": "stdout",
     "output_type": "stream",
     "text": [
      " 100x100 Ddimensional Array: \n",
      " [[100 100 100 ... 100 100 100]\n",
      " [100 100 100 ... 100 100 100]\n",
      " [100 100 100 ... 100 100 100]\n",
      " ...\n",
      " [100 100 100 ... 100 100 100]\n",
      " [100 100 100 ... 100 100 100]\n",
      " [100 100 100 ... 100 100 100]] \n",
      "\n",
      " Flattened Array: \n",
      " [[100 100 100 ... 100 100 100]]\n"
     ]
    }
   ],
   "source": [
    "arr100x100 = np.tile([100],(100,100))\n",
    "print(f\" 100x100 Ddimensional Array: \\n {arr100x100} \\n\")\n",
    "flattenedarr = arr100x100.reshape(1,10000)\n",
    "print(f\" Flattened Array: \\n {flattenedarr}\")"
   ]
  },
  {
   "cell_type": "markdown",
   "metadata": {},
   "source": [
    "**Problem 12**\n",
    "\n",
    "Generate a numpy array with shape (10,10) and integers in range \\[0,100) in column-major order and perform transpose operation on it with numpy built-in method and with slicing (second approach may seem harder). "
   ]
  },
  {
   "cell_type": "code",
   "execution_count": 83,
   "metadata": {},
   "outputs": [
    {
     "name": "stdout",
     "output_type": "stream",
     "text": [
      " Array with shape(10,10): \n",
      " [[ 0 10 20 30 40 50 60 70 80 90]\n",
      " [ 1 11 21 31 41 51 61 71 81 91]\n",
      " [ 2 12 22 32 42 52 62 72 82 92]\n",
      " [ 3 13 23 33 43 53 63 73 83 93]\n",
      " [ 4 14 24 34 44 54 64 74 84 94]\n",
      " [ 5 15 25 35 45 55 65 75 85 95]\n",
      " [ 6 16 26 36 46 56 66 76 86 96]\n",
      " [ 7 17 27 37 47 57 67 77 87 97]\n",
      " [ 8 18 28 38 48 58 68 78 88 98]\n",
      " [ 9 19 29 39 49 59 69 79 89 99]] \n",
      "\n",
      " Outcome with the first approach: \n",
      " [[ 0  1  2  3  4  5  6  7  8  9]\n",
      " [10 11 12 13 14 15 16 17 18 19]\n",
      " [20 21 22 23 24 25 26 27 28 29]\n",
      " [30 31 32 33 34 35 36 37 38 39]\n",
      " [40 41 42 43 44 45 46 47 48 49]\n",
      " [50 51 52 53 54 55 56 57 58 59]\n",
      " [60 61 62 63 64 65 66 67 68 69]\n",
      " [70 71 72 73 74 75 76 77 78 79]\n",
      " [80 81 82 83 84 85 86 87 88 89]\n",
      " [90 91 92 93 94 95 96 97 98 99]] \n",
      "\n",
      " Outcome with another approach: \n",
      " [[ 0  1  2  3  4  5  6  7  8  9]\n",
      " [10 11 12 13 14 15 16 17 18 19]\n",
      " [20 21 22 23 24 25 26 27 28 29]\n",
      " [30 31 32 33 34 35 36 37 38 39]\n",
      " [40 41 42 43 44 45 46 47 48 49]\n",
      " [50 51 52 53 54 55 56 57 58 59]\n",
      " [60 61 62 63 64 65 66 67 68 69]\n",
      " [70 71 72 73 74 75 76 77 78 79]\n",
      " [80 81 82 83 84 85 86 87 88 89]\n",
      " [90 91 92 93 94 95 96 97 98 99]] \n",
      "\n",
      " Outcome with slicing: \n",
      " [[ 0  1  2  3  4  5  6  7  8  9]\n",
      " [10 11 12 13 14 15 16 17 18 19]\n",
      " [20 21 22 23 24 25 26 27 28 29]\n",
      " [30 31 32 33 34 35 36 37 38 39]\n",
      " [40 41 42 43 44 45 46 47 48 49]\n",
      " [50 51 52 53 54 55 56 57 58 59]\n",
      " [60 61 62 63 64 65 66 67 68 69]\n",
      " [70 71 72 73 74 75 76 77 78 79]\n",
      " [80 81 82 83 84 85 86 87 88 89]\n",
      " [90 91 92 93 94 95 96 97 98 99]]\n"
     ]
    }
   ],
   "source": [
    "arr10 = np.arange(0,100)\n",
    "arr10x10 = arr10.reshape(10,10,order=\"F\")\n",
    "print(f\" Array with shape(10,10): \\n {arr10x10} \\n\")\n",
    "\n",
    "trsofarr = arr10x10.transpose()\n",
    "print(f\" Outcome with the first approach: \\n {trsofarr} \\n\")\n",
    "\n",
    "\n",
    "#a[0][0] -> a[0][0], a[0][1] -> a[1][0],...,a[1][1] -> a[1][1], a[1][0] -> a[0][1],...\n",
    "\n",
    "\n",
    "newarr10x10 = []\n",
    "for i in range(len(arr10x10)):\n",
    "    for j in range(len(arr10x10)):\n",
    "        if i == j:\n",
    "            newarr10x10.append(arr10x10[i][j])\n",
    "        else:\n",
    "            newarr10x10.append(arr10x10[j][i])\n",
    "newarr10x10 = np.array(newarr10x10)\n",
    "print(f\" Outcome with another approach: \\n {newarr10x10.reshape(10,10)} \\n\")\n",
    "\n",
    "\n",
    "secondarr10 = np.arange(0,100) #creating the same array again\n",
    "secondarr10x10 = secondarr10.reshape(10,10,order=\"F\")\n",
    "\n",
    "for i in range(len(arr10x10)):\n",
    "    for j in range(len(arr10x10)):\n",
    "        if i == j:\n",
    "            arr10x10[i][j] = arr10x10[i][j] #because the diagonal digits do not change (a[0][0] -> a[0][0]....)\n",
    "        elif j < i:\n",
    "            arr10x10[i][j] = secondarr10x10[j][i]  # I am doing this, because without this condition, the elements in the bellow-left corner will be changed twice\n",
    "        else: \n",
    "            arr10x10[i][j] = arr10x10[j][i]\n",
    "\n",
    "#also, I have created the same array twice, because without secondarr10x10, I will not be able to assighn half of the elements, as I need them unchanged\n",
    "#without it, my outcome would have been:\n",
    "#[[ 0 10 20 30 40 50 60 70 80 90]\n",
    "#[ 1 11 21 31 41 51 61 71 81 91]\n",
    "#[ 2 12 22 32 42 52 62 72 82 92]\n",
    "#[ 3 13 23 33 43 53 63 73 83 93]\n",
    "#[ 4 14 24 34 44 54 64 74 84 94]\n",
    "#[ 5 15 25 35 45 55 65 75 85 95]\n",
    "#[ 6 16 26 36 46 56 66 76 86 96]\n",
    "#[ 7 17 27 37 47 57 67 77 87 97]\n",
    "#[ 8 18 28 38 48 58 68 78 88 98]\n",
    "#[ 9 19 29 39 49 59 69 79 89 99]]\n",
    "#As you can see, the elements of the bellow-left corner, with the following indices are changes twice: [1][0], [2][0], [2][1], [3][0], [3][1], [3][2],...\n",
    "\n",
    "print(f\" Outcome with slicing: \\n {arr10x10}\")\n"
   ]
  },
  {
   "cell_type": "markdown",
   "metadata": {},
   "source": [
    "**Problem 13**\n",
    "\n",
    "Create a diagonal matrix with integers in range [1,10] on the diagonal. Extract the diagonal elements using slicing."
   ]
  },
  {
   "cell_type": "code",
   "execution_count": 15,
   "metadata": {},
   "outputs": [
    {
     "name": "stdout",
     "output_type": "stream",
     "text": [
      "[[ 1  0  0  0  0  0  0  0  0  0]\n",
      " [ 0  2  0  0  0  0  0  0  0  0]\n",
      " [ 0  0  3  0  0  0  0  0  0  0]\n",
      " [ 0  0  0  4  0  0  0  0  0  0]\n",
      " [ 0  0  0  0  5  0  0  0  0  0]\n",
      " [ 0  0  0  0  0  6  0  0  0  0]\n",
      " [ 0  0  0  0  0  0  7  0  0  0]\n",
      " [ 0  0  0  0  0  0  0  8  0  0]\n",
      " [ 0  0  0  0  0  0  0  0  9  0]\n",
      " [ 0  0  0  0  0  0  0  0  0 10]] \n",
      "\n",
      " Solution 1 \n",
      " [[[ 1]]\n",
      "\n",
      " [[ 2]]\n",
      "\n",
      " [[ 3]]\n",
      "\n",
      " [[ 4]]\n",
      "\n",
      " [[ 5]]\n",
      "\n",
      " [[ 6]]\n",
      "\n",
      " [[ 7]]\n",
      "\n",
      " [[ 8]]\n",
      "\n",
      " [[ 9]]\n",
      "\n",
      " [[10]]] \n",
      "\n",
      " Solution 2 \n",
      " [array([ 1,  2,  3,  4,  5,  6,  7,  8,  9, 10])] \n",
      "\n",
      " Solution 3 \n",
      " [1, 2, 3, 4, 5, 6, 7, 8, 9, 10] \n",
      "\n"
     ]
    }
   ],
   "source": [
    "#creating the given diagonal matrix without np.diag() \n",
    "arr1to10 = np.eye((10), dtype=int)\n",
    "k = 1\n",
    "for i in range(len(arr1to10)):\n",
    "    for j in range(len(arr1to10)):\n",
    "        if arr1to10[i][j] == 1:\n",
    "            arr1to10[i][j] = k\n",
    "            k+=1\n",
    "        else:\n",
    "            arr1to10[i][j] = arr1to10[i][j]\n",
    "            \n",
    "print(f\"{arr1to10} \\n\")\n",
    "\n",
    "#Or, the same arr1to10 can be simply created with the bellow code\n",
    "#arr1to10copy = np.diag([1,2,3,4,5,6,7,8,9,10])\n",
    "#print(arr1to10copy)\n",
    "\n",
    "\n",
    "#diagonal indices are [0][0],[1][1],...,[9][9]\n",
    "\n",
    "#Solution 1 (slicing)\n",
    "diag = np.array([arr1to10[i:i+1,i:i+1] for i in range(10)])\n",
    "print(f\" Solution 1 \\n {diag} \\n\")\n",
    "\n",
    "#Solution 2\n",
    "diag2 = [arr1to10[arr1to10 > 0]]\n",
    "print(f\" Solution 2 \\n {diag2} \\n\")\n",
    "\n",
    "#Solution 3\n",
    "lst = []\n",
    "for i in range(len(arr1to10)):\n",
    "    for j in range(len(arr1to10)):\n",
    "        if i == j:\n",
    "            lst.append(arr1to10[i][j])\n",
    "\n",
    "print(f\" Solution 3 \\n {lst} \\n\")"
   ]
  },
  {
   "cell_type": "markdown",
   "metadata": {},
   "source": [
    "**Problem 14**\n",
    "\n",
    "Create a 4x4 dimensional array where each row corresponds to integers from [1,4] in decreasing order and sort it rowwise. Now repeat the same operation using argsort and slicing."
   ]
  },
  {
   "cell_type": "code",
   "execution_count": 9,
   "metadata": {},
   "outputs": [
    {
     "name": "stdout",
     "output_type": "stream",
     "text": [
      "\n",
      "Solution 1 \n",
      "[[4 3 2 1]\n",
      " [4 3 2 1]\n",
      " [4 3 2 1]\n",
      " [4 3 2 1]] \n",
      "\n",
      "Solution with slicing \n",
      "[[4 3 2 1]\n",
      " [4 3 2 1]\n",
      " [4 3 2 1]\n",
      " [4 3 2 1]] \n",
      "\n",
      " Solution with argsort \n",
      " [[[4 3 2 1]\n",
      "  [4 3 2 1]\n",
      "  [4 3 2 1]\n",
      "  [4 3 2 1]]]\n"
     ]
    }
   ],
   "source": [
    "#Solution 1(With lists)\n",
    "lstone = list(range(1,5))\n",
    "lstrone = sorted(lstone,reverse=True)\n",
    "arr4x4rone = np.tile(lstrone,((4,1)))\n",
    "print(f\"\\nSolution 1 \\n{arr4x4rone} \\n\")\n",
    "\n",
    "#Solution with slicing\n",
    "arr4x4two = np.tile((range(1,5)),(4,1))\n",
    "arr4x4rtwo = arr4x4two[0:4,::-1]\n",
    "print(f\"Solution with slicing \\n{arr4x4rtwo} \\n\")\n",
    "\n",
    "#Solution with argsort\n",
    "arr4x4three = np.tile((range(1,5)),(4,1))\n",
    "indicesofsorted = np.argsort(arr4x4three)[::4]\n",
    "arr4x4rthree = arr4x4three[indicesofsorted,::-1]\n",
    "print(f\" Solution with argsort \\n {arr4x4rthree}\")"
   ]
  },
  {
   "cell_type": "markdown",
   "metadata": {},
   "source": [
    "***Problem 15***\n",
    "<br> 5 students' test scores are stored in the 2-d array \"student_scores\". Each row stores the corresponding test's scores. <br>\n",
    "Calculate the mean of grades of each student (columns) and the median of grades per test (rows)?"
   ]
  },
  {
   "cell_type": "code",
   "execution_count": 371,
   "metadata": {},
   "outputs": [],
   "source": [
    "student_scores = np.array([[92, 94, 88, 91, 87],\n",
    "                           [79, 100, 86, 93, 91],\n",
    "                           [87, 85, 72, 90, 92]])\n",
    "\n",
    "#print(student_scores[0:,0:1]) col1\n",
    "#print(student_scores[0:,1:2]) col2\n",
    "#print(student_scores[0:,2:3]) col3\n",
    "#print(student_scores[0:,3:2]) col4\n",
    "#print(student_scores[0:,4:3]) col5\n",
    "\n",
    "\n",
    "#print(student_scores[0:1,0:]) row1\n",
    "#print(student_scores[1:2,0:]) row2\n",
    "#print(student_scores[2:3,0:]) row3\n",
    "\n",
    "#print(student_scores[0:1,2:3]) median of row1"
   ]
  },
  {
   "cell_type": "code",
   "execution_count": 372,
   "metadata": {},
   "outputs": [
    {
     "name": "stdout",
     "output_type": "stream",
     "text": [
      "  List of the mean of grades of each student \n",
      " [array([86.]), array([93.]), array([82.]), array([91.33333333]), array([90.])] \n",
      "\n",
      "  List of grades for each test sorted in increasing order \n",
      " [array([[87, 88, 91, 92, 94]]), array([[ 79,  86,  91,  93, 100]]), array([[72, 85, 87, 90, 92]])] \n",
      "\n",
      "  List of medians of each test \n",
      " [array([[91]]), array([[91]]), array([[87]])] \n",
      " \n"
     ]
    }
   ],
   "source": [
    "allstudents = [student_scores[0:,i:i+1] for i in range(len(student_scores[1]))] #seperating each students' grades, so they will be in one array each\n",
    "\n",
    "listofmeans = [(sum(allstudents[i]) / len(allstudents[i])) for i in range(len(student_scores[1]))]\n",
    "print(f\"  List of the mean of grades of each student \\n {listofmeans} \\n\")\n",
    "\n",
    "\n",
    "\n",
    "alltests = [np.sort(student_scores[i:i+1,0:]) for i in range(len(student_scores))] #similarly, seperating each row, to have grades for each test in seperate arrays\n",
    "print(f\"  List of grades for each test sorted in increasing order \\n {alltests} \\n\")\n",
    "\n",
    "\n",
    "#print(alltests[1][0:1,2:3]) median of the first tests grades. I wrote [1] because as I used np.sort(), now I have array inside of array (requires one more iteration)\n",
    "listofmedians = [alltests[i][0:1,2:3] for i in range(3)]\n",
    "print(f\"  List of medians of each test \\n {listofmedians} \\n \")"
   ]
  },
  {
   "cell_type": "markdown",
   "metadata": {},
   "source": [
    "**Problem 16**<br>\n",
    "Create a logical statement that selects elements in \"porridge\" array that are less than 60, and saves them in a new array called \"cold\".<br>\n",
    "Create a logical statement that finds all elements that are higher than 80 and saves them in an array named \"hot\"."
   ]
  },
  {
   "cell_type": "code",
   "execution_count": 5,
   "metadata": {},
   "outputs": [],
   "source": [
    "porridge = np.array([79, 65, 50, 63, 56, 90, 85, 98, 79, 51])"
   ]
  },
  {
   "cell_type": "code",
   "execution_count": 6,
   "metadata": {},
   "outputs": [
    {
     "name": "stdout",
     "output_type": "stream",
     "text": [
      " Solution 1 \n",
      " cold \n",
      " [50 56 51] \n",
      " \n",
      " Solution 1 \n",
      " hot \n",
      " [90 85 98] \n",
      " \n",
      " Solution 2 \n",
      " cold \n",
      " [50 56 51] \n",
      " \n",
      " Solution 2 \n",
      " hot \n",
      " [90 85 98] \n",
      " \n"
     ]
    }
   ],
   "source": [
    "#Solution 1\n",
    "cold = np.array([i for i in porridge if i < 60])\n",
    "print(f\" Solution 1 \\n cold \\n {cold} \\n \")\n",
    "\n",
    "hot = np.array([i for i in porridge if i > 80])\n",
    "print(f\" Solution 1 \\n hot \\n {hot} \\n \")\n",
    "\n",
    "\n",
    "\n",
    "#Solution 2\n",
    "cold2 = np.array([],dtype=int)\n",
    "for i in porridge:\n",
    "    if i < 60:\n",
    "        cold2 = np.append(cold2, [i],)\n",
    "print(f\" Solution 2 \\n cold \\n {cold2} \\n \")\n",
    "\n",
    "hot2 = np.array([],dtype=int)\n",
    "for i in porridge:\n",
    "    if i > 80:\n",
    "        hot2 = np.append(hot2, [i],)\n",
    "print(f\" Solution 2 \\n hot \\n {hot2} \\n \")\n"
   ]
  },
  {
   "cell_type": "markdown",
   "metadata": {},
   "source": [
    "# END"
   ]
  }
 ],
 "metadata": {
  "kernelspec": {
   "display_name": "Python 3",
   "language": "python",
   "name": "python3"
  },
  "language_info": {
   "codemirror_mode": {
    "name": "ipython",
    "version": 3
   },
   "file_extension": ".py",
   "mimetype": "text/x-python",
   "name": "python",
   "nbconvert_exporter": "python",
   "pygments_lexer": "ipython3",
   "version": "3.8.5"
  }
 },
 "nbformat": 4,
 "nbformat_minor": 5
}
