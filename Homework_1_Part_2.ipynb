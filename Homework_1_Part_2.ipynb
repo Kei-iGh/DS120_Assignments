{
 "cells": [
  {
   "cell_type": "markdown",
   "metadata": {
    "id": "68noDwMnKnMD"
   },
   "source": [
    "## Homework 1 - Part 2"
   ]
  },
  {
   "cell_type": "markdown",
   "metadata": {},
   "source": [
    "***Problem 1*** \n",
    "\n",
    "Write one line of code to print a chess board where **\"X\"s** are black squares and **\"O\"s** are white ones. The output should be exactly the same as in the below picture:\n",
    "<img src=\"chess.jpg\" style=\"width: 200px;\">\n",
    "**Hint:** String operations are enough to solve this problem."
   ]
  },
  {
   "cell_type": "code",
   "execution_count": 1,
   "metadata": {},
   "outputs": [
    {
     "name": "stdout",
     "output_type": "stream",
     "text": [
      "\n",
      "---------------------------------\n",
      "| 0 | X | 0 | X | 0 | X | 0 | X |\n",
      "---------------------------------\n",
      "| X | 0 | X | 0 | X | 0 | X | 0 |\n",
      "---------------------------------\n",
      "| 0 | X | 0 | X | 0 | X | 0 | X |\n",
      "---------------------------------\n",
      "| X | 0 | X | 0 | X | 0 | X | 0 |\n",
      "---------------------------------\n",
      "| 0 | X | 0 | X | 0 | X | 0 | X |\n",
      "---------------------------------\n",
      "| X | 0 | X | 0 | X | 0 | X | 0 |\n",
      "---------------------------------\n",
      "| 0 | X | 0 | X | 0 | X | 0 | X |\n",
      "---------------------------------\n",
      "| X | 0 | X | 0 | X | 0 | X | 0 | \n",
      "---------------------------------\n"
     ]
    }
   ],
   "source": [
    "print('\\n---------------------------------\\n| 0 | X | 0 | X | 0 | X | 0 | X |\\n---------------------------------\\n| X | 0 | X | 0 | X | 0 | X | 0 |'*4, '\\n---------------------------------')\n"
   ]
  },
  {
   "cell_type": "markdown",
   "metadata": {
    "id": "L-yIcCPnr4Si"
   },
   "source": [
    "**Problem 2**\n",
    "\n",
    "\n",
    "Hill list is a list of integers in which the element starting from index 0 increase to some value K at some index than decrease till the end of the list.\n",
    "Mathematically speaking Hill list is a list of elements [A0,A1,...,Ak-1,Ak,Ak+1,...An] such that A0 < A1 < A2...< Ak >Ak-1>AK-2...>An.\n",
    "\n",
    "Given a list of integers determine whether the list is a Hill list.\n",
    "\n",
    "**Note**: The length of the list is greater than or equal to 3."
   ]
  },
  {
   "cell_type": "code",
   "execution_count": 122,
   "metadata": {
    "id": "VLGQZhnItEKs"
   },
   "outputs": [
    {
     "name": "stdout",
     "output_type": "stream",
     "text": [
      "The list is a Hill list\n"
     ]
    }
   ],
   "source": [
    "ls1 = [1, 2, 3, 6 ,3, 2, 1]\n",
    "\n",
    "if len(ls1) < 3:\n",
    "    print(\"The length of the list should be greater than or equal to 3.\")\n",
    "else:\n",
    "    indexOfAk = ls1.index(max(ls1))\n",
    "    for i in range (0,indexOfAk):\n",
    "        if ls1[i] < ls1[i+1]:\n",
    "            leftside = True\n",
    "        else:\n",
    "            leftside = False\n",
    "    for q in range (indexOfAk,len(ls1)-1):   \n",
    "        if ls1[q] > ls1[q+1]:\n",
    "            rightside = True\n",
    "        else:\n",
    "            rightside = False\n",
    "            \n",
    "if leftside & rightside == True:\n",
    "    print(\"The list is a Hill list\")"
   ]
  },
  {
   "cell_type": "markdown",
   "metadata": {
    "id": "C3rAoigsvQP9"
   },
   "source": [
    "**Problem 3**\n",
    "\n",
    "Given a list of integers, compute one of its modes. Mode is defined as the number or numbers that occur most frequently in the list."
   ]
  },
  {
   "cell_type": "code",
   "execution_count": 128,
   "metadata": {
    "colab": {
     "base_uri": "https://localhost:8080/"
    },
    "id": "xV7neQKSvr-f",
    "outputId": "9e0fee81-079a-434c-a623-78cd9186303b"
   },
   "outputs": [
    {
     "name": "stdout",
     "output_type": "stream",
     "text": [
      "23\n"
     ]
    }
   ],
   "source": [
    "ls2 = [23, 54, 3, 4, 76, 5, 4, 23, 34, 23] \n",
    "print(max(set(ls2), key=ls2.count))"
   ]
  },
  {
   "cell_type": "markdown",
   "metadata": {},
   "source": [
    "**Problem 4** <br><br> Write a program to merge following two dictionaries."
   ]
  },
  {
   "cell_type": "code",
   "execution_count": 5,
   "metadata": {},
   "outputs": [],
   "source": [
    "infl1 = {'Armenia':2.5,'Russia':2.7,'S. Korea':2.9}\n",
    "infl2 = {'Armenia': 2.5, 'Russia': 2.7, 'S. Korea': 2.9, 'Georgia': 2.1, 'Moldova': 3.1}"
   ]
  },
  {
   "cell_type": "code",
   "execution_count": 6,
   "metadata": {},
   "outputs": [
    {
     "name": "stdout",
     "output_type": "stream",
     "text": [
      "{'Armenia': 2.5, 'Russia': 2.7, 'S. Korea': 2.9, 'Georgia': 2.1, 'Moldova': 3.1}\n",
      "{'Armenia': 2.5, 'Russia': 2.7, 'S. Korea': 2.9, 'Georgia': 2.1, 'Moldova': 3.1}\n"
     ]
    }
   ],
   "source": [
    "infl1.update(infl2)\n",
    "print(infl1)\n",
    "print(infl2)"
   ]
  },
  {
   "cell_type": "markdown",
   "metadata": {
    "id": "gg9fuGELyPy7"
   },
   "source": [
    "**Problem 5**\n",
    "\n",
    "Given a list of unique integers, compute the sum of absolute differences between each unique pair of elements in list."
   ]
  },
  {
   "cell_type": "code",
   "execution_count": 7,
   "metadata": {
    "colab": {
     "base_uri": "https://localhost:8080/"
    },
    "id": "AbECLYKQyjWm",
    "outputId": "11228d6f-31f5-411c-f129-d1042abb3ca1"
   },
   "outputs": [
    {
     "name": "stdout",
     "output_type": "stream",
     "text": [
      "[3, 2, 3]\n"
     ]
    }
   ],
   "source": [
    "ls3 = [1, 2, 3]\n",
    "ls4 = []\n",
    "for i in range(len(ls3)):\n",
    "    sum = 0\n",
    "    for j in range(len(ls3)): \n",
    "        sum += abs(ls3[i] - ls3[j]) \n",
    "    ls4.append(sum)\n",
    "print(ls4)\n",
    "\n",
    "#First number in ls4 = |1 – 2| + |1 – 3| = 3\n",
    "#Second number is ls4 = |2 – 1| + |2 – 3| = 2\n",
    "#Third number in ls4 = |3 – 1| + |3 – 2| = 3"
   ]
  },
  {
   "cell_type": "markdown",
   "metadata": {
    "id": "Ef_FJ2Ma08R3"
   },
   "source": [
    "**Problem 6**\n",
    "\n",
    "Given an integer, compute how many odd digits the integer has."
   ]
  },
  {
   "cell_type": "code",
   "execution_count": 129,
   "metadata": {
    "colab": {
     "base_uri": "https://localhost:8080/"
    },
    "id": "SVpazJwl0yKV",
    "outputId": "908193bf-2169-4630-a3ef-4699dad293ae"
   },
   "outputs": [
    {
     "name": "stdout",
     "output_type": "stream",
     "text": [
      "5\n"
     ]
    }
   ],
   "source": [
    "a = 123456789\n",
    "numOfOddDigits = 0\n",
    "while (a > 0):\n",
    "    lastDigit = a % 10\n",
    "    if lastDigit % 2 == 1:\n",
    "        numOfOddDigits += 1\n",
    "    a = int(a / 10) \n",
    "print(numOfOddDigits)"
   ]
  },
  {
   "cell_type": "markdown",
   "metadata": {
    "id": "aggwnIXFKnML"
   },
   "source": [
    "**Problem 7**\n",
    "\n",
    "\n",
    "Given a NxN matrix write a program that iterates over the upper diagonals of the matrix from upper left corner to bottom right corner and returns a list of values that were iterated over.\n",
    "\n",
    "Test Case Example:\n",
    "\n",
    "|1, 2, 3, 4|<br>\n",
    "|0, 5, 6, 7|<br>\n",
    "|0, 0, 8, 9|<br>\n",
    "|0, 0, 0, 1|<br>\n",
    "\n",
    "Output:\n",
    "\n",
    "\\[1, 5, 8 ,1, 2, 6, 9, 3, 7, 4\\]\n",
    "\n",
    "\n",
    "**Note**:\n",
    "\n",
    "The order of the values in the list matters.\n",
    "\n",
    "1 <= N <= 100 where N is the dimension of the matrix.\n",
    "\n",
    "-100 <= M\\[i\\]\\[j\\] <= 100 where M is the matrix and i, j are arbitrary indexes.\n",
    "\n",
    "Elements below the main diagonal are not necessarily 0.\n",
    "\n",
    "Learning Outcomes:\n",
    "\n",
    "This problem appears quite often in harder computer science problems particularly in dynamic programming and the goal is to\n",
    "\n",
    "familiarize you with this ad-hoc problem.\n",
    "\n",
    "**Hint:** Present matrix in form of list of lists (diagm = [[1,2,3,4],[0,5,6,7],[0,0,8,9],[0,0,0,1]])\n"
   ]
  },
  {
   "cell_type": "code",
   "execution_count": 5,
   "metadata": {
    "colab": {
     "base_uri": "https://localhost:8080/"
    },
    "id": "FJQDSwUsXJfz",
    "outputId": "5314e9d3-b6fb-4b66-ee75-74928ce29c7d"
   },
   "outputs": [
    {
     "name": "stdout",
     "output_type": "stream",
     "text": [
      "[1, 5, 8, 1]\n"
     ]
    }
   ],
   "source": [
    "ls5 = []\n",
    "ls6 = []\n",
    "diagm = [[1,2,3,4],[0,5,6,7],[0,0,8,9],[0,0,0,1]]\n",
    "for i in range(len(diagm)):\n",
    "    ls5.append(diagm[i][i])\n",
    "\n",
    "    \n",
    "print(ls5)"
   ]
  },
  {
   "cell_type": "markdown",
   "metadata": {
    "id": "UZt5IbQUKnMP"
   },
   "source": [
    "**Problem 8**\n",
    "\n",
    "Taxicab(n) or in short Ta(n) is defined as the smallest integer that can be expressed as a sum of two positive integer cubes in n distinct ways. Write a program that takes as input the number N and returns the Nth Taxicab(n=2) number.\n",
    "\n",
    "**Test Case Example**: Return 1st (N=1) Taxicab(n=2) number.\n",
    "\n",
    "**Output**: 1729\n",
    "\n",
    "**Explanation**:\n",
    "\n",
    "1729 is the smallest integer number that can be expressed as a sum of two positive integer cubes in 2 and only 2 distinct ways\n",
    "\n",
    "1729 = 1^3 + 12^3 = 9^3 + 10^3\n",
    "\n",
    "**Note**: N will take values in range \\[1,100\\] inclusive\n",
    "\n",
    "**Hint**: \n",
    "First, you need to write a program to check whether a number is a Taxicab number by iterating over all positive integers less than the cube root of that number and output only Taxicab(n=2) numbers. Then, you need to output Nth Taxicab(n=2) number, given N."
   ]
  },
  {
   "cell_type": "code",
   "execution_count": null,
   "metadata": {
    "id": "YIp78zdmKnMQ"
   },
   "outputs": [],
   "source": []
  },
  {
   "cell_type": "markdown",
   "metadata": {
    "id": "32uKYwmnKnMR"
   },
   "source": [
    "**Problem 9**\n",
    "\n",
    "Given a list of numbers that are greater than or equal to zero, output the largest possible number that is the composite of the numbers in the list.\n",
    "\n",
    "**Test Case Example**: [56, 5, 57, 7]\n",
    "\n",
    "**Output**: 757565\n",
    "\n",
    "**Note**:\n",
    "\n",
    "The list is not necessarily sorted.\n",
    "\n",
    "1 <= N <= 20 where N is the length of the list\n",
    "\n",
    "0 <= List\\[i\\] <= 1000 where i is abritrary index in the list\n",
    "\n",
    "**Hint**:\n",
    "You need to have a program that compares two number combinations (e.g. whether 548 > 485 for numbers 5 and 48) and use some sorting algorithm to sort the numbers based on this comparison (you can use insertion sort). Search for it; we are not going to cover it during our course."
   ]
  },
  {
   "cell_type": "code",
   "execution_count": 41,
   "metadata": {
    "colab": {
     "base_uri": "https://localhost:8080/"
    },
    "id": "iehISrjDX_4S",
    "outputId": "34d8abf3-b2df-4991-a0ed-f269286a4118"
   },
   "outputs": [
    {
     "name": "stdout",
     "output_type": "stream",
     "text": [
      "757565\n"
     ]
    }
   ],
   "source": [
    "ls4 = [56, 5, 57, 7]\n",
    "ls3, a = [], \"\" \n",
    "l = len(str(max(ls4))) + 1\n",
    "for i in ls4: \n",
    "    temp = str(i) * l \n",
    "    ls3.append((temp[:l:], i)) \n",
    "    ls3.sort(reverse = True) \n",
    "for i in ls3: \n",
    "    a += str(i[1]) \n",
    "    if int(a)==0: \n",
    "        print(\"0\")\n",
    "print(a)"
   ]
  },
  {
   "cell_type": "markdown",
   "metadata": {
    "id": "2it8WzpNKnMS"
   },
   "source": [
    "**Problem 10**\n",
    "\n",
    "If you circumscribe a square to unit circle and generate random points within the square then the following relation will take place:\n",
    "\n",
    "Pi = 4 * (number of points inside the circle / total number of points)\n",
    "\n",
    "Write a program that will take input N (the number of generated points) and use the above-mentioned fact to return the estimated value of Pi.\n",
    "\n",
    "**Test Case Example**: 100000\n",
    "\n",
    "**Output**: 3.14032\n",
    "\n",
    "**Test Cases:** Check whether the output number is close to Pi. Million iterations would result in at least two floating point digit precision.\n",
    "\n",
    "![](square_circle.png)"
   ]
  },
  {
   "cell_type": "code",
   "execution_count": null,
   "metadata": {},
   "outputs": [],
   "source": []
  },
  {
   "cell_type": "markdown",
   "metadata": {
    "id": "ST65QmELKnMT"
   },
   "source": [
    "**Problem 11**\n",
    "\n",
    "You are given an array of length N that contains non-negative integers. An array is called perfect if  j % 2 == a\\[j\\] % 2 where j is the index of array elements. At each step you can swap places of two array elements.\n",
    "\n",
    "Write a program that takes an array as an input and outputs number of swaps required to make the array perfect(if it is impossible to make the array perfect then the output is -1). Use 'list' data type to represent an array.\n",
    "\n",
    "**Test Case Example 1**: [4, 5, 7, 9] \n",
    "\n",
    "Output: -1\n",
    "\n",
    "**Test Case Example 2**: [2, 5, 8, 79]\n",
    "\n",
    "Output: 0"
   ]
  },
  {
   "cell_type": "code",
   "execution_count": null,
   "metadata": {
    "id": "Cj1q8QvLKnMU"
   },
   "outputs": [],
   "source": [
    "ls7 = [2, 5, 8, 79]\n",
    "for i in range(0, len(ls7)):\n",
    "    counter = 0\n",
    "    if i % 2 != ls7[i] % 2:\n",
    "        counter += 1"
   ]
  },
  {
   "cell_type": "markdown",
   "metadata": {
    "id": "6Rk4uqxjKnMW"
   },
   "source": [
    "**Problem 12**\n",
    "\n",
    "Colatz conjecture is one of the current misteries of mathematics that remains unsolved even to this day. Colatz sequence is defined as follows. If N is even then the next number is N/2, if N is odd then the next number is 3*N+1.\n",
    "\n",
    "Write a program that takes input N where N is the first number in colatz sequence, and outputs number of steps that are required to reach 1.\n",
    "\n",
    "**Test Case Example**: 8\n",
    "\n",
    "**Output**: 3\n",
    "\n",
    "The sequence is 8, 4, 2, and 1 and three steps were required to reach \n",
    "\n",
    "**Note**: 1 <= N <= 10^4"
   ]
  },
  {
   "cell_type": "code",
   "execution_count": 3,
   "metadata": {
    "colab": {
     "base_uri": "https://localhost:8080/"
    },
    "id": "cFBY-K4pKnMW",
    "outputId": "468539cd-b4ba-425f-a400-e8902df3ba0a"
   },
   "outputs": [
    {
     "name": "stdout",
     "output_type": "stream",
     "text": [
      "4\n"
     ]
    }
   ],
   "source": [
    "n = 8\n",
    "counter = 1\n",
    "\n",
    "while n > 1:\n",
    "    if n % 2 == 1:\n",
    "        n = n*3 + 1\n",
    "        counter += 1\n",
    "    elif n % 2 == 0:\n",
    "        n = n / 2\n",
    "        counter += 1\n",
    "\n",
    "print(counter)"
   ]
  },
  {
   "cell_type": "markdown",
   "metadata": {},
   "source": [
    "***Problem 13*** \n",
    "\n",
    "Write a program that randomly generates a nine-character password. First 3 characters must be from the set \"let\", second 3 characters from the set \"num\", last three ones from the set \"sym\". Set seed() to 42 and generate a password."
   ]
  },
  {
   "cell_type": "code",
   "execution_count": 186,
   "metadata": {},
   "outputs": [],
   "source": [
    "let = ['A','B','C','a','b','c']\n",
    "num = ['1','2','3','4','5','6']\n",
    "sym = ['!','@','#','$','%','^']"
   ]
  },
  {
   "cell_type": "code",
   "execution_count": 187,
   "metadata": {},
   "outputs": [
    {
     "name": "stdout",
     "output_type": "stream",
     "text": [
      "cAA632@@^\n"
     ]
    }
   ],
   "source": [
    "import random\n",
    "random.seed(42)\n",
    "f1,f2,f3 = random.choice(let),random.choice(let),random.choice(let)\n",
    "f=f1+f2+f3\n",
    "s1,s2,s3 = random.choice(num),random.choice(num),random.choice(num)\n",
    "s=s1+s2+s3\n",
    "t1,t2,t3 = random.choice(sym),random.choice(sym),random.choice(sym)\n",
    "t=t1+t2+t3\n",
    "password = f + s + t\n",
    "print(password)"
   ]
  },
  {
   "cell_type": "markdown",
   "metadata": {},
   "source": [
    "***Problem 14*** \n",
    "\n",
    "Write a program that converts \"firstname lastname\" to \"lastname, firstname\", using list comprehensions."
   ]
  },
  {
   "cell_type": "code",
   "execution_count": 112,
   "metadata": {},
   "outputs": [],
   "source": [
    "ls = ['Հրաչյա Վարդանյան', 'Անուշ Կարապետյան', 'Գոռ Անտոնյան', 'Տաթեւ Հարությունյան', 'Mary Sargsyan']"
   ]
  },
  {
   "cell_type": "code",
   "execution_count": 87,
   "metadata": {},
   "outputs": [
    {
     "name": "stdout",
     "output_type": "stream",
     "text": [
      "[('Վարդանյան', 'Հրաչյա'), ('Կարապետյան', 'Անուշ'), ('Անտոնյան', 'Գոռ'), ('Հարությունյան', 'Տաթեւ'), ('Sargsyan', 'Mary')]\n",
      "[(\"Վարդանյան',\", \"['Հրաչյա\"), (\"Կարապետյան',\", \"'Անուշ\"), (\"Անտոնյան',\", \"'Գոռ\"), (\"Հարությունյան',\", \"'Տաթեւ\"), (\"Sargsyan']\", \"'Mary\")]\n"
     ]
    }
   ],
   "source": [
    "#for this particular example\n",
    "lsname = [name.replace(' Վարդանյան', '').replace(' Կարապետյան', '').replace(' Անտոնյան', '').replace(' Հարությունյան', '').replace(' Sargsyan', '') for name in ls]\n",
    "#print(lsname)\n",
    "lslastname = [lastname.replace('Հրաչյա ', '').replace('Անուշ ', '').replace('Գոռ ', '').replace('Տաթեւ ', '').replace('Mary ', '') for lastname in ls]\n",
    "#print(lslastname)\n",
    "newls = list(zip(lslastname, lsname))\n",
    "print(newls)\n",
    "\n",
    "#general code for lists with any length and content (it works but I couldn't delete the special characters)\n",
    "ls = ['Հրաչյա Վարդանյան', 'Անուշ Կարապետյան', 'Գոռ Անտոնյան', 'Տաթեւ Հարությունյան', 'Mary Sargsyan']\n",
    "ls6 = []\n",
    "ls7 = []\n",
    "ls8 = []\n",
    "ls6.append(str(ls).split())\n",
    "for i in range(0,10,2):\n",
    "    ls7.append(ls6[0][i])\n",
    "#print(ls7)\n",
    "for i in range(1,10,2):\n",
    "    ls8.append(ls6[0][i])\n",
    "#print(ls8)\n",
    "ls9 = list(zip(ls8, ls7))\n",
    "print(ls9)"
   ]
  },
  {
   "cell_type": "markdown",
   "metadata": {},
   "source": [
    "***Problem 15*** \n",
    "\n",
    "Write a program to count the number of occurencies of each word in the text and creates a dictionary where words are keys and counts are value. Before that, make all words lowercase, remove commas, periods and redundant spaces."
   ]
  },
  {
   "cell_type": "code",
   "execution_count": 109,
   "metadata": {},
   "outputs": [],
   "source": [
    "text = \"\"\"There’s clearly a shortage of data scientists to help companies use more of their data,\n",
    "so pursuing a career in the field puts today’s students at a distinct advantage\n",
    "when it comes to staying away from the unemployment lines after graduation. \n",
    "Data science is fast becoming one of today’s most in-demand careers, and \n",
    "in fact, the prescient Harvard Business Review declared data science as \n",
    "\"the sexiest career of the 21st century\" six years ago.\"\"\""
   ]
  },
  {
   "cell_type": "code",
   "execution_count": 110,
   "metadata": {},
   "outputs": [
    {
     "name": "stdout",
     "output_type": "stream",
     "text": [
      "{'there’s': 1, 'clearly': 1, 'a': 3, 'shortage': 1, 'of': 4, 'data': 4, 'scientists': 1, 'to': 2, 'help': 1, 'companies': 1, 'use': 1, 'more': 1, 'their': 1, 'so': 1, 'pursuing': 1, 'career': 2, 'in': 2, 'the': 4, 'field': 1, 'puts': 1, 'today’s': 2, 'students': 1, 'at': 1, 'distinct': 1, 'advantage': 1, 'when': 1, 'it': 1, 'comes': 1, 'staying': 1, 'away': 1, 'from': 1, 'unemployment': 1, 'lines': 1, 'after': 1, 'graduation': 1, 'science': 2, 'is': 1, 'fast': 1, 'becoming': 1, 'one': 1, 'most': 1, 'in-demand': 1, 'careers': 1, 'and': 1, 'fact': 1, 'prescient': 1, 'harvard': 1, 'business': 1, 'review': 1, 'declared': 1, 'as': 1, '\"the': 1, 'sexiest': 1, '21st': 1, 'century\"': 1, 'six': 1, 'years': 1, 'ago': 1}\n"
     ]
    }
   ],
   "source": [
    "import string\n",
    "newtext = text.lower().replace(',', '').replace('.', '').replace('  ', '')\n",
    "#print(newtext)\n",
    "dictofnewtext = {}\n",
    "words = newtext.split()\n",
    "for word in words:\n",
    "        if word in dictofnewtext:\n",
    "            dictofnewtext[word] += 1\n",
    "        else:\n",
    "            dictofnewtext[word] = 1\n",
    "print(dictofnewtext)"
   ]
  },
  {
   "cell_type": "markdown",
   "metadata": {},
   "source": [
    "***Problem 16***\n",
    "\n",
    "Write a program that takes **input** *list l* and *integer n* and **returns** a list of lists, spliting the input list by every n-th element (**Example:** $[1,2,3,4,5,6,7,8,9,10]$ to $[[1,4,7,10],[2,5,8],[3,6,9]]$ when $n=3$ or $[[1,5,9],[2,6,10],[3,7],[4,8]]$ when $n=4$. Run the program for l=[1,2,3,4,5,1,2,3,4,5,1,2,3] and n=5."
   ]
  },
  {
   "cell_type": "code",
   "execution_count": 111,
   "metadata": {},
   "outputs": [
    {
     "name": "stdout",
     "output_type": "stream",
     "text": [
      "[[1, 1, 1], [2, 2, 2], [3, 3, 3], [4, 4], [5, 5]]\n"
     ]
    },
    {
     "data": {
      "text/plain": [
       "[[1, 1, 1], [2, 2, 2], [3, 3, 3], [4, 4], [5, 5]]"
      ]
     },
     "execution_count": 111,
     "metadata": {},
     "output_type": "execute_result"
    }
   ],
   "source": [
    "l = [1,2,3,4,5,1,2,3,4,5,1,2,3]\n",
    "n = 5\n",
    "def program1(anylist, anyinteger):\n",
    "    return [anylist[i::anyinteger] for i in range(anyinteger)]\n",
    "print(program1(l,n))\n",
    "#Or we can do it with just one line without creating a function\n",
    "[l[i::5] for i in range(5)]"
   ]
  },
  {
   "cell_type": "markdown",
   "metadata": {},
   "source": [
    "# End"
   ]
  }
 ],
 "metadata": {
  "colab": {
   "collapsed_sections": [],
   "name": "homework2.ipynb",
   "provenance": []
  },
  "kernelspec": {
   "display_name": "Python 3",
   "language": "python",
   "name": "python3"
  },
  "language_info": {
   "codemirror_mode": {
    "name": "ipython",
    "version": 3
   },
   "file_extension": ".py",
   "mimetype": "text/x-python",
   "name": "python",
   "nbconvert_exporter": "python",
   "pygments_lexer": "ipython3",
   "version": "3.8.5"
  }
 },
 "nbformat": 4,
 "nbformat_minor": 1
}
