{
 "cells": [
  {
   "cell_type": "markdown",
   "metadata": {},
   "source": [
    "# Homework 3 Part 1"
   ]
  },
  {
   "cell_type": "markdown",
   "metadata": {},
   "source": [
    "Name: Kristina\n",
    "\n",
    "Surname: Ghahramanyan"
   ]
  },
  {
   "cell_type": "markdown",
   "metadata": {},
   "source": [
    "**Problem 1**\n",
    "\n",
    "Create class Organization that is instantiated with country and type_ instance attributes and has a method get_details which prints all instance attributes of an instance of Organization as one string, seperating them by spaces. Create class University that is instantiated with  instance attributes uni_name, uni_city, and uni_rank and inherits Organization class. University class must also instantiate Organization class with arguments \"Armenia\" and \"unversity\" during its instantiation. Create an instance of University class with arguments \"AUA\", \"Yerevan\", and 1 and call get_details method of the instance."
   ]
  },
  {
   "cell_type": "code",
   "execution_count": 37,
   "metadata": {},
   "outputs": [],
   "source": [
    "class Organization:\n",
    "\n",
    "    def __init__(self, country, type_):\n",
    "        self.country = country\n",
    "        self.type_ = type_\n",
    "   \n",
    "    def get_details(self):\n",
    "        print(self.country, self.type_)\n",
    "        \n",
    "class University(Organization):\n",
    "\n",
    "    def __init__(self, uni_name, uni_city, uni_rank):\n",
    "        country = \"Armenia\" \n",
    "        type_ = \"unversity\"\n",
    "        Organization.__init__(self, country, type_)\n",
    "        self.uni_name = uni_name\n",
    "        self.uni_city = uni_city\n",
    "        self.uni_rank = uni_rank"
   ]
  },
  {
   "cell_type": "code",
   "execution_count": 40,
   "metadata": {},
   "outputs": [
    {
     "name": "stdout",
     "output_type": "stream",
     "text": [
      "Armenia unversity\n"
     ]
    }
   ],
   "source": [
    "Uni1 = University(\"AUA\", \"Yerevan\", 1)\n",
    "Uni1.get_details()"
   ]
  },
  {
   "cell_type": "markdown",
   "metadata": {},
   "source": [
    "**Problem 2**\n",
    "\n",
    "Below is given class Student with data attribute uni. Check whether class Student has attribute uni, get the attribute, change it to \"YSU\", get it again to make sure you changed it, delete the attribute and try to get the attribute again (no worries if you get an error in the last step). You must use hasattr, getattr, setattr and delattr functions."
   ]
  },
  {
   "cell_type": "code",
   "execution_count": 64,
   "metadata": {},
   "outputs": [],
   "source": [
    "class Student:\n",
    "    uni=\"AUA\""
   ]
  },
  {
   "cell_type": "code",
   "execution_count": 65,
   "metadata": {},
   "outputs": [
    {
     "name": "stdout",
     "output_type": "stream",
     "text": [
      "True\n",
      "AUA\n"
     ]
    }
   ],
   "source": [
    "print(hasattr(Student, \"uni\")) #Checking if attribute uni exists\n",
    "print(getattr(Student, \"uni\")) #Getting the attribute"
   ]
  },
  {
   "cell_type": "code",
   "execution_count": 66,
   "metadata": {},
   "outputs": [
    {
     "name": "stdout",
     "output_type": "stream",
     "text": [
      "YSU\n"
     ]
    }
   ],
   "source": [
    "setattr(Student, \"uni\", \"YSU\") #Changing it to \"YSU\"\n",
    "print(getattr(Student, 'uni')) #Getting the attribute again"
   ]
  },
  {
   "cell_type": "code",
   "execution_count": 67,
   "metadata": {},
   "outputs": [
    {
     "ename": "AttributeError",
     "evalue": "type object 'Student' has no attribute 'uni'",
     "output_type": "error",
     "traceback": [
      "\u001b[1;31m---------------------------------------------------------------------------\u001b[0m",
      "\u001b[1;31mAttributeError\u001b[0m                            Traceback (most recent call last)",
      "\u001b[1;32m<ipython-input-67-c68a10bea2c6>\u001b[0m in \u001b[0;36m<module>\u001b[1;34m\u001b[0m\n\u001b[0;32m      1\u001b[0m \u001b[0mdelattr\u001b[0m\u001b[1;33m(\u001b[0m\u001b[0mStudent\u001b[0m\u001b[1;33m,\u001b[0m \u001b[1;34m\"uni\"\u001b[0m\u001b[1;33m)\u001b[0m\u001b[1;33m\u001b[0m\u001b[1;33m\u001b[0m\u001b[0m\n\u001b[1;32m----> 2\u001b[1;33m \u001b[0mprint\u001b[0m\u001b[1;33m(\u001b[0m\u001b[0mgetattr\u001b[0m\u001b[1;33m(\u001b[0m\u001b[0mStudent\u001b[0m\u001b[1;33m,\u001b[0m \u001b[1;34m'uni'\u001b[0m\u001b[1;33m)\u001b[0m\u001b[1;33m)\u001b[0m\u001b[1;33m\u001b[0m\u001b[1;33m\u001b[0m\u001b[0m\n\u001b[0m",
      "\u001b[1;31mAttributeError\u001b[0m: type object 'Student' has no attribute 'uni'"
     ]
    }
   ],
   "source": [
    "delattr(Student, \"uni\")\n",
    "print(getattr(Student, 'uni'))"
   ]
  },
  {
   "cell_type": "markdown",
   "metadata": {},
   "source": [
    "***Problem 3:*** \n",
    "\n",
    "Do below operations on list ls with special methods that are called in reality when you call below functions:"
   ]
  },
  {
   "cell_type": "code",
   "execution_count": 108,
   "metadata": {},
   "outputs": [],
   "source": [
    "ls = [1, 2, 3]\n",
    "#dir(ls)"
   ]
  },
  {
   "cell_type": "code",
   "execution_count": 109,
   "metadata": {},
   "outputs": [
    {
     "data": {
      "text/plain": [
       "3"
      ]
     },
     "execution_count": 109,
     "metadata": {},
     "output_type": "execute_result"
    }
   ],
   "source": [
    "# a\n",
    "len(ls)"
   ]
  },
  {
   "cell_type": "code",
   "execution_count": 110,
   "metadata": {},
   "outputs": [
    {
     "data": {
      "text/plain": [
       "3"
      ]
     },
     "execution_count": 110,
     "metadata": {},
     "output_type": "execute_result"
    }
   ],
   "source": [
    "#Solution\n",
    "ls.__len__()"
   ]
  },
  {
   "cell_type": "code",
   "execution_count": 111,
   "metadata": {},
   "outputs": [
    {
     "name": "stdout",
     "output_type": "stream",
     "text": [
      "[1, 2, 3]\n"
     ]
    }
   ],
   "source": [
    "# c\n",
    "print(ls)"
   ]
  },
  {
   "cell_type": "code",
   "execution_count": 112,
   "metadata": {},
   "outputs": [
    {
     "data": {
      "text/plain": [
       "'[1, 2, 3]'"
      ]
     },
     "execution_count": 112,
     "metadata": {},
     "output_type": "execute_result"
    }
   ],
   "source": [
    "#Solution\n",
    "ls.__str__()"
   ]
  },
  {
   "cell_type": "markdown",
   "metadata": {},
   "source": [
    "**Problem 4**\n",
    "\n",
    "Create a class called \"bank\" that has  private \"\\__funds\" attribute, protected \"_get_funds\" method that prints the value of the \"\\__funds\" attribute and a public \"interest\" method that increases the value of \"\\__funds\" attribute by 10 percent.\n",
    "Create an instance of bank class, set a value of \"\\__funds\" attribute to infinity (with float(\"inf\")) and print it using \"_get_funds\" method."
   ]
  },
  {
   "cell_type": "code",
   "execution_count": 137,
   "metadata": {},
   "outputs": [],
   "source": [
    "class bank:\n",
    "    def __init__(self, funds):\n",
    "        self.__funds = funds\n",
    "    \n",
    "    def _get_funds(self):\n",
    "        print(self.__funds)\n",
    "    \n",
    "    def interest(self):\n",
    "        self.__funds = self.__funds*1.1"
   ]
  },
  {
   "cell_type": "code",
   "execution_count": 138,
   "metadata": {},
   "outputs": [
    {
     "name": "stdout",
     "output_type": "stream",
     "text": [
      "inf\n"
     ]
    }
   ],
   "source": [
    "bank1 = bank(float(\"inf\"))\n",
    "bank1._get_funds()"
   ]
  },
  {
   "cell_type": "markdown",
   "metadata": {},
   "source": [
    "**Problem 5**\n",
    "\n",
    "Create class fraction that is being instantiated with instance arguments \"numerator\" and \"denominator\". The instances of this class represent fractions. Overload oeprators +,-,*, and / for the instances of this class in a way that those operations will return a string that represents the fraction obtained from performing the corresponding operation on the two instances of the class(two fractions).\n",
    "\n",
    "Examples:  \n",
    "\n",
    "s1=fraction(3,4)\n",
    "\n",
    "s2=fraction(1,2)\n",
    "\n",
    "\\#3/4+1/2 = 5/4\n",
    "<br>\n",
    "s1+s2\n",
    "<br>\n",
    "Output: \"5/4\"\n",
    "\n",
    "\\#3/4\\*1/2 = 3/8 \n",
    "<br>\n",
    "s1*s2\n",
    "<br>\n",
    "Output: \"3/8\"\n",
    "\n",
    "Restriction: Do not import any modules."
   ]
  },
  {
   "cell_type": "code",
   "execution_count": 160,
   "metadata": {},
   "outputs": [],
   "source": [
    "class fraction:\n",
    "\n",
    "    def __init__(self, numerator, denominator):\n",
    "        self.numerator = numerator\n",
    "        self.denominator = denominator\n",
    "        \n",
    "    def fractionform(self): #This method prints our numerator and denominator in form of a fraction\n",
    "        print(f\"{self.numerator}/{self.denominator}\")\n",
    "        \n",
    "    def add(self, other): #This method is for adding our instances\n",
    "        numerator = self.numerator*other.denominator+other.numerator*self.denominator\n",
    "        denominator = self.denominator*other.denominator\n",
    "        print(f\"{numerator}/{denominator}\")\n",
    "        \n",
    "    def substract(self, other): #This method is for substracting our instances\n",
    "        numerator = self.numerator*other.denominator-other.numerator*self.denominator\n",
    "        denominator = self.denominator*other.denominator\n",
    "        print(f\"{numerator}/{denominator}\")\n",
    "        \n",
    "    def multiply(self, other): #This method is for multiplying our instances\n",
    "        numerator = self.numerator*other.numerator\n",
    "        denominator = self.denominator*other.denominator\n",
    "        print(f\"{numerator}/{denominator}\")\n",
    "\n",
    "    def divide(self, other): #This method is for dividing our instances\n",
    "        numerator = self.numerator*other.denominator\n",
    "        denominator = self.denominator*other.numerator\n",
    "        print(f\"{numerator}/{denominator}\")"
   ]
  },
  {
   "cell_type": "code",
   "execution_count": 161,
   "metadata": {},
   "outputs": [
    {
     "name": "stdout",
     "output_type": "stream",
     "text": [
      "21/18\n",
      "9/18\n",
      "5/18\n",
      "15/6\n"
     ]
    }
   ],
   "source": [
    "num1 = fraction(5,6)\n",
    "num2 = fraction(1,3)\n",
    "fraction.add(num1, num2) #5/6 + 1/3 = 21/18\n",
    "fraction.substract(num1, num2) #5/6 - 1/3 = 9/18\n",
    "fraction.multiply(num1, num2) #5/6 * 1/3 = 5/18\n",
    "fraction.divide(num1, num2) #5/6 / 1/3 = 15/6"
   ]
  },
  {
   "cell_type": "markdown",
   "metadata": {},
   "source": [
    "**Problem 6**\n",
    "\n",
    "Below you are given class Progression which is the parent class of Arithmetic, Geometric and Fibonacci progression classes. Make the progression class an asbtract class where _advance method will be an abstract method. "
   ]
  },
  {
   "cell_type": "code",
   "execution_count": 165,
   "metadata": {},
   "outputs": [
    {
     "name": "stdout",
     "output_type": "stream",
     "text": [
      "Arithmetic progression with increment 5:\n",
      "0 5 10 15 20 25 30 35 40 45\n",
      "Arithmetic progression with increment 5 and start 2:\n",
      "2 7 12 17 22 27 32 37 42 47\n",
      "Geometric progression with default base:\n",
      "1 2 4 8 16 32 64 128 256 512\n",
      "Geometric progression with base 3: \n",
      "1 3 9 27 81 243 729 2187 6561 19683\n",
      "Fibonacci progression with default start values:\n",
      "0 1 1 2 3 5 8 13 21 34\n",
      "Fibonacci progression with start values 4 and 6:\n",
      "4 6 10 16 26 42 68 110 178 288\n"
     ]
    }
   ],
   "source": [
    "from abc import ABCMeta, abstractmethod\n",
    "\n",
    "class Progression(metaclass=ABCMeta):\n",
    "    \"\"\"Iterator producing a generic progression.\n",
    "    Default iterator produces the whole numbers 0, 1, 2, ...\"\"\"\n",
    "\n",
    "    def __init__(self, start=0):\n",
    "        \"\"\"Initialize current to the first value of the progression.\"\"\"\n",
    "        self._current = start\n",
    "        \n",
    "    @abstractmethod    \n",
    "    def _advance(self):\n",
    "        \"\"\"Update self._current to a new value.\n",
    "        This should be overridden by a subclass to customize progression.\n",
    "        By convention, if current is set to None, this designates the end of a finite progression.\"\"\"\n",
    "        self._current += 1\n",
    "\n",
    "    def __next__(self):\n",
    "        \"\"\"Return the next element, or else raise StopIteration error.\"\"\"\n",
    "        if self._current is None: # our convention to end a progression\n",
    "            raise StopIteration()\n",
    "        else:\n",
    "            answer = self._current # record current value to return\n",
    "            self._advance() # advance to prepare for next time\n",
    "            return answer # return the answer\n",
    "        \n",
    "    def __iter__(self):\n",
    "        \"\"\"By convention, an iterator must return itself as an iterator.\"\"\"\n",
    "        return self\n",
    "\n",
    "    def print_progression(self, n):\n",
    "        \"\"\"Print next n values of the progression.\"\"\"\n",
    "        print(\" \".join(str(next(self)) for j in range(n)))\n",
    "\n",
    "\n",
    "class ArithmeticProgression(Progression): # inherit from Progression\n",
    "    \"\"\"Iterator producing an arithmetic progression.\"\"\"\n",
    "\n",
    "    def __init__(self, increment=1, start=0):\n",
    "        \"\"\"Create a new arithmetic progression.\n",
    "        increment the fixed constant to add to each term (default 1)\n",
    "        start the first term of the progression (default 0)\"\"\"\n",
    "        super().__init__(start) # initialize base class\n",
    "        self._increment = increment\n",
    "\n",
    "    def _advance(self): # override inherited version\n",
    "        \"\"\"Update current value by adding the fixed increment.\"\"\"\n",
    "        self._current += self._increment\n",
    "\n",
    "\n",
    "class GeometricProgression(Progression): # inherit from Progression\n",
    "    \"\"\"Iterator producing a geometric progression.\"\"\"\n",
    "    \n",
    "    def __init__(self, base=2, start=1):\n",
    "        \"\"\"Create a new geometric progression.\n",
    "        base the fixed constant multiplied to each term (default 2)\n",
    "        start the first term of the progression (default 1)\n",
    "        \"\"\"\n",
    "        super().__init__(start)\n",
    "        self._base = base\n",
    "\n",
    "    def _advance(self): # override inherited version\n",
    "        \"\"\"Update current value by multiplying it by the base value.\"\"\"\n",
    "        self._current *= self._base\n",
    "\n",
    "\n",
    "class FibonacciProgression(Progression):\n",
    "    \"\"\"Iterator producing a generalized Fibonacci progression.\"\"\"\n",
    "\n",
    "    def __init__(self, first=0, second=1):\n",
    "        \"\"\"Create a new fibonacci progression.\n",
    "        first the first term of the progression (default 0)\n",
    "        second the second term of the progression (default 1)\n",
    "        \"\"\"\n",
    "        super().__init__(first) # start progression at first\n",
    "        self._prev = second - first # fictitious value preceding the first\n",
    "\n",
    "    def _advance(self):\n",
    "        \"\"\"Update current value by taking sum of previous two.\"\"\"\n",
    "        self._prev, self._current = self._current, self._prev + self._current\n",
    "\n",
    "if __name__== \"__main__\":\n",
    "    #print(\"Default progression:\")\n",
    "    #Progression().print_progression(10)\n",
    "    print(\"Arithmetic progression with increment 5:\")\n",
    "    ArithmeticProgression(5).print_progression(10)\n",
    "    print(\"Arithmetic progression with increment 5 and start 2:\")\n",
    "    ArithmeticProgression(5,2).print_progression(10)\n",
    "    print(\"Geometric progression with default base:\")\n",
    "    GeometricProgression().print_progression(10)\n",
    "    print(\"Geometric progression with base 3: \")\n",
    "    GeometricProgression(3).print_progression(10)\n",
    "    print(\"Fibonacci progression with default start values:\")\n",
    "    FibonacciProgression().print_progression(10)\n",
    "    print(\"Fibonacci progression with start values 4 and 6:\")\n",
    "    FibonacciProgression(4,6).print_progression(10)"
   ]
  },
  {
   "cell_type": "markdown",
   "metadata": {
    "id": "upZnrIMG2pbb"
   },
   "source": [
    "**Problem 7**\n",
    "\n",
    "Create class \"triangle\" which is instantiated with 3 arguments representing the lengths of the sides of the triangle.<br>\n",
    "\"triangle\" class has two methods, \"area\" and \"perimeter\" which correspondingly return the area and the perimeter of the triangle.<br>\n",
    "Create classes \"isosceles\" and \"right_trigangle\" which inherit \"triangle\" class.<br>\n",
    "\"isosceles\" class is instantiated with two arguments, base and side which correspond to base and side of isosceles.\n",
    "\"right_triangle\" class is instantiated with two arguments, one of which is the length of hypotenuse and the other parameter is the length of one of the sides. Create two instances of \"isosceles\" and \"right_triangle\" classes (one for each of them) and calculate area and perimeter of these instances.\n",
    "\n",
    "**Restriction:** \"area\" and \"perimeter\" methods of \"triangle\" class should not be overriden by a child class  and should work universally for all child classes."
   ]
  },
  {
   "cell_type": "code",
   "execution_count": 276,
   "metadata": {
    "id": "OvLESHs_y6PX"
   },
   "outputs": [],
   "source": [
    "import math\n",
    "class triangle:\n",
    "    \n",
    "    def __init__(self, length1, length2, length3):\n",
    "        self.length1 = length1\n",
    "        self.length2 = length2\n",
    "        self.length3 = length3\n",
    "        \n",
    "    def perimeter(self):\n",
    "        perim = (self.length1 + self.length2 + self.length3)\n",
    "        return perim\n",
    "        \n",
    "    def area(self):\n",
    "        semip = self.perimeter() / 2\n",
    "        area = (semip*(semip-self.length1)*(semip-self.length2)*(semip-self.length3)) ** 0.5\n",
    "        return area\n",
    "\n",
    "\n",
    "class isosceles(triangle):\n",
    "    \n",
    "    def __init__(self, base, side):\n",
    "        self.base = base\n",
    "        self.side = side\n",
    "        triangle.__init__(self, base, side, side)\n",
    "    \n",
    "\n",
    "class right_triangle(triangle):\n",
    "    \n",
    "    def __init__(self, hyp, side):\n",
    "        self.hyp = hyp\n",
    "        self.side = side\n",
    "        length1 = math.sqrt(self.hyp**2-self.side**2) #Finding the missing side with the fomula a**2 + b**2 = c**2 \n",
    "        triangle.__init__(self, hyp, side, length1)"
   ]
  },
  {
   "cell_type": "code",
   "execution_count": 278,
   "metadata": {},
   "outputs": [
    {
     "name": "stdout",
     "output_type": "stream",
     "text": [
      "\n",
      "Perimeter of a triangle with sides 3, 4, 5:\n",
      "12\n",
      "\n",
      "Area of a triangle with sides 3, 4, 5:\n",
      "6.0\n",
      "\n",
      "Perimeter of an isosceles triangle with sides 3.5 and base 4:\n",
      "11.0\n",
      "\n",
      "Area of an isosceles triangle with sides 3.5 and base 4:\n",
      "5.744562646538029\n",
      "\n",
      "Perimeter of a right triangle with a hypotenuse 5 and side 4:\n",
      "12.0\n",
      "\n",
      "Area of a right triangle with a hypotenuse 5 and side 4:\n",
      "6.0\n"
     ]
    }
   ],
   "source": [
    "t1 = triangle(3,4,5)\n",
    "print(\"\\nPerimeter of a triangle with sides 3, 4, 5:\")\n",
    "print(triangle.perimeter(t1))\n",
    "print(\"\\nArea of a triangle with sides 3, 4, 5:\")\n",
    "print(triangle.area(t1))\n",
    "\n",
    "iso1 = isosceles(4,3.5)\n",
    "print(\"\\nPerimeter of an isosceles triangle with sides 3.5 and base 4:\")\n",
    "print(isosceles.perimeter(iso1))\n",
    "print(\"\\nArea of an isosceles triangle with sides 3.5 and base 4:\")\n",
    "print(isosceles.area(iso1))\n",
    "\n",
    "right1 = right_triangle(5,4)\n",
    "print(\"\\nPerimeter of a right triangle with a hypotenuse 5 and side 4:\") \n",
    "print(right_triangle.perimeter(right1))\n",
    "print(\"\\nArea of a right triangle with a hypotenuse 5 and side 4:\")\n",
    "print(right_triangle.area(right1))"
   ]
  },
  {
   "cell_type": "markdown",
   "metadata": {},
   "source": [
    "# RegEx"
   ]
  },
  {
   "cell_type": "code",
   "execution_count": 280,
   "metadata": {},
   "outputs": [],
   "source": [
    "import re"
   ]
  },
  {
   "cell_type": "markdown",
   "metadata": {},
   "source": [
    "**Problem 8**\n",
    "\n",
    "Write a regex pattern to match all words in the sentence not including the whitespaces."
   ]
  },
  {
   "cell_type": "code",
   "execution_count": 333,
   "metadata": {},
   "outputs": [
    {
     "name": "stdout",
     "output_type": "stream",
     "text": [
      "['A', 'class', 'serves', 'as', 'the', 'primary', 'means', 'for', 'abstraction', 'in', 'object-oriented', 'programming.', 'In', 'Python', 'every', 'piece', 'of', 'data', 'is', 'represented', 'as', 'an', 'instance', 'of', 'some', 'class.']\n"
     ]
    }
   ],
   "source": [
    "text = \"A class serves as the primary means for abstraction in object-oriented programming. In Python, every piece of data is represented as an instance of some class.\"\n",
    "print(re.findall(r\"([\\w.-]+)\", text))"
   ]
  },
  {
   "cell_type": "markdown",
   "metadata": {},
   "source": [
    "**Problem 9**\n",
    "\n",
    "Write a regex to check whether the given string is possible to convert into float type using float() function. There are  3 possible cases; examples: \"8.3\",\".6\",\"5.\")."
   ]
  },
  {
   "cell_type": "code",
   "execution_count": 401,
   "metadata": {},
   "outputs": [
    {
     "name": "stdout",
     "output_type": "stream",
     "text": [
      "False\n",
      "False\n",
      "True\n",
      "True\n",
      "True\n",
      "['1.23']\n",
      "['.1']\n",
      "['1.']\n"
     ]
    }
   ],
   "source": [
    "text2 = \"Hello, 1, 2, 67 12\"\n",
    "print(bool(re.findall(r\"\\d{,}\\.{1,1}\\d{,}\", text2))) #checking if the string cosists of only a float number \\d{,} for zero or one repetitions of numbers, and \\.{1,1} because . must appear once\n",
    "\n",
    "text3 = \"123\"\n",
    "print(bool(re.findall(r\"\\d{,}\\.{1,1}\\d{,}\", text3)))\n",
    "\n",
    "text3 = \"1.23\"\n",
    "text4 = \".1\"\n",
    "text5 = \"1.\"\n",
    "print(bool(re.findall(r\"\\d{,}\\.{1,1}\\d{,}\", text3))) \n",
    "print(bool(re.findall(r\"\\d{,}\\.{1,1}\\d{,}\", text4))) \n",
    "print(bool(re.findall(r\"\\d{,}\\.{1,1}\\d{,}\", text5))) \n",
    "print(re.findall(r\"\\d{,}\\.{1,1}\\d{,}\", text3))\n",
    "print(re.findall(r\"\\d{,}\\.{1,1}\\d{,}\", text4))\n",
    "print(re.findall(r\"\\d{,}\\.{1,1}\\d{,}\", text5))"
   ]
  },
  {
   "cell_type": "markdown",
   "metadata": {},
   "source": [
    "**Problem 10**\n",
    "\n",
    "Given an integer in string format use regex to check if the number is odd."
   ]
  },
  {
   "cell_type": "code",
   "execution_count": 407,
   "metadata": {},
   "outputs": [
    {
     "name": "stdout",
     "output_type": "stream",
     "text": [
      "True\n",
      "False\n",
      "False\n",
      "True\n"
     ]
    }
   ],
   "source": [
    "text6 = \"1121\" #starts with odd, ends with odd = odd\n",
    "text7 = \"1122\" #starts with odd, ends with even = even\n",
    "text8 = \"2122\" #starts with even, ends with even = even\n",
    "text9 = \"2121\" #starts with even, ends with odd = odd\n",
    "print(bool(re.findall(r\"^\\d*[13579]$\", text6))) #Checking if the number starts and ends with an odd number or only ends with an odd number (If True, then the number is odd)\n",
    "print(bool(re.findall(r\"^\\d*[13579]$\", text7)))\n",
    "print(bool(re.findall(r\"^\\d*[13579]$\", text8)))\n",
    "print(bool(re.findall(r\"^\\d*[13579]$\", text9)))"
   ]
  },
  {
   "cell_type": "markdown",
   "metadata": {},
   "source": [
    "**Example solution for Problems 11 and 12**\n",
    "\n",
    "It is time to solve regex crossword. Below is a solved example with vertical and horizontal views.\n",
    "![example](pics\\solved_example.jpg)\n",
    "![example](pics\\solved_example_v.jpg)\n",
    "\n",
    "Both left and right patterns match the whole row from left to right, and both above and below patterns match the whole column from top to down. "
   ]
  },
  {
   "cell_type": "markdown",
   "metadata": {},
   "source": [
    "**Problem 11**\n",
    "\n",
    "Solve the following regex crossword presented in horizontal(first pic) and  vertical(second pic) views:\n",
    "![example](pics\\crossword1h.png)\n",
    "![example](pics\\crossword1v.png) "
   ]
  },
  {
   "cell_type": "code",
   "execution_count": 5,
   "metadata": {},
   "outputs": [
    {
     "data": {
      "text/plain": [
       "array([['G', 'P', 'O'],\n",
       "       ['Z', 'K', 'S']], dtype='<U1')"
      ]
     },
     "execution_count": 5,
     "metadata": {},
     "output_type": "execute_result"
    }
   ],
   "source": [
    "# Solution based on horizontal view. Fill quotes with correct letters.\n",
    "import numpy as np\n",
    "a = np.zeros((2,3),dtype=str)\n",
    "a[0,0]=\"G\"\n",
    "a[0,1]=\"P\"\n",
    "a[0,2]=\"O\"\n",
    "a[1,0]=\"Z\"\n",
    "a[1,1]=\"K\"\n",
    "a[1,2]=\"S\"\n",
    "a"
   ]
  },
  {
   "cell_type": "markdown",
   "metadata": {},
   "source": [
    "**Problem 12**\n",
    "\n",
    "Solve the following regex crossword presented in horizontal(first pic) and  vertical(second pic) views:\n",
    "![example](pics\\crossword2h.jpg)\n",
    "![example](pics\\crossword2v.jpg) "
   ]
  },
  {
   "cell_type": "code",
   "execution_count": 6,
   "metadata": {},
   "outputs": [
    {
     "data": {
      "text/plain": [
       "array([['N', 'N', 'M'],\n",
       "       ['O', 'I', 'U'],\n",
       "       ['L', 'D', 'I']], dtype='<U1')"
      ]
     },
     "execution_count": 6,
     "metadata": {},
     "output_type": "execute_result"
    }
   ],
   "source": [
    "# Solution based on horizontal view. Fill quotes with correct letters.\n",
    "import numpy as np\n",
    "a = np.zeros((3,3),dtype=str)\n",
    "a[0,0]=\"N\"\n",
    "a[0,1]=\"N\"\n",
    "a[0,2]=\"M\"\n",
    "a[1,0]=\"O\"\n",
    "a[1,1]=\"I\"\n",
    "a[1,2]=\"U\"\n",
    "a[2,0]=\"L\"\n",
    "a[2,1]=\"D\"\n",
    "a[2,2]=\"I\"\n",
    "a"
   ]
  },
  {
   "cell_type": "markdown",
   "metadata": {},
   "source": [
    "**Optional Problem**\n",
    "\n",
    "Add a new method to built-in list class that computes the mean of the elements in the list. "
   ]
  },
  {
   "cell_type": "code",
   "execution_count": 543,
   "metadata": {},
   "outputs": [],
   "source": [
    "#print(dir(list))\n",
    "class addingtolist(list): \n",
    "    def __init__(self,*args):\n",
    "        super().__init__(args)\n",
    "        \n",
    "    def mean(self):\n",
    "        sumoflist = 0\n",
    "        mean = 0\n",
    "        for i in range(self.__len__()):\n",
    "            sumoflist = sumoflist + self.__getitem__(i)\n",
    "        mean = sumoflist/self.__len__()\n",
    "        return mean\n"
   ]
  },
  {
   "cell_type": "code",
   "execution_count": 549,
   "metadata": {},
   "outputs": [
    {
     "data": {
      "text/plain": [
       "2.0"
      ]
     },
     "execution_count": 549,
     "metadata": {},
     "output_type": "execute_result"
    }
   ],
   "source": [
    "lst = addingtolist(1,2,3)\n",
    "addingtolist.mean(lst)"
   ]
  },
  {
   "cell_type": "markdown",
   "metadata": {},
   "source": [
    "# END"
   ]
  }
 ],
 "metadata": {
  "kernelspec": {
   "display_name": "Python 3",
   "language": "python",
   "name": "python3"
  },
  "language_info": {
   "codemirror_mode": {
    "name": "ipython",
    "version": 3
   },
   "file_extension": ".py",
   "mimetype": "text/x-python",
   "name": "python",
   "nbconvert_exporter": "python",
   "pygments_lexer": "ipython3",
   "version": "3.8.5"
  }
 },
 "nbformat": 4,
 "nbformat_minor": 5
}
