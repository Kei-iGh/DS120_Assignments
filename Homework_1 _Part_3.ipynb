{
 "cells": [
  {
   "cell_type": "markdown",
   "metadata": {},
   "source": [
    "## Homework 3 Part 3"
   ]
  },
  {
   "cell_type": "markdown",
   "metadata": {},
   "source": [
    "## List comprehensions"
   ]
  },
  {
   "cell_type": "markdown",
   "metadata": {},
   "source": [
    "**Problem 1:** Use list comprehension syntax with range function to get this output :\n",
    "['10', '12', '14', '16', '18']\n",
    "\n",
    "Do not use any conditional statement or expression (if, else, etc.)."
   ]
  },
  {
   "cell_type": "code",
   "execution_count": 9,
   "metadata": {},
   "outputs": [
    {
     "data": {
      "text/plain": [
       "['10', '12', '14', '16', '18']"
      ]
     },
     "execution_count": 9,
     "metadata": {},
     "output_type": "execute_result"
    }
   ],
   "source": [
    "[str(a) for a in range(10,19,2)]"
   ]
  },
  {
   "cell_type": "markdown",
   "metadata": {},
   "source": [
    "**Problem 2:** Use list comprehension syntax to add 5 to each of the below list elements, multiply them by 10 and make them float type numbers. The output will be this:\n",
    "[50.0, 60.0, 70.0, 150.0, 160.0, 170.0, 180.0, 230.0, 240.0]"
   ]
  },
  {
   "cell_type": "code",
   "execution_count": 10,
   "metadata": {},
   "outputs": [],
   "source": [
    "ls= [0, 1, 2, 10, 11, 12, 13, 18, 19]"
   ]
  },
  {
   "cell_type": "code",
   "execution_count": 11,
   "metadata": {},
   "outputs": [
    {
     "data": {
      "text/plain": [
       "[50.0, 60.0, 70.0, 150.0, 160.0, 170.0, 180.0, 230.0, 240.0]"
      ]
     },
     "execution_count": 11,
     "metadata": {},
     "output_type": "execute_result"
    }
   ],
   "source": [
    "[float((a+5)*10) for a in ls]"
   ]
  },
  {
   "cell_type": "markdown",
   "metadata": {},
   "source": [
    "**Problem 3:** Use list comprehension syntax to filter the below names' list in a way that only names with 4 or less characters remain in the list. The output will be this:\n",
    "['Lia', 'Emma', 'Noah', 'Ava']"
   ]
  },
  {
   "cell_type": "code",
   "execution_count": 14,
   "metadata": {},
   "outputs": [],
   "source": [
    "ls2 = [\"Lia\", \"Emma\", \"Noah\", \"Olivia\", \"William\", \"Ava\", \"James\", \"Isabella\"]"
   ]
  },
  {
   "cell_type": "code",
   "execution_count": 15,
   "metadata": {},
   "outputs": [
    {
     "data": {
      "text/plain": [
       "['Lia', 'Emma', 'Noah', 'Ava']"
      ]
     },
     "execution_count": 15,
     "metadata": {},
     "output_type": "execute_result"
    }
   ],
   "source": [
    "[a for a in ls2 if len(a)<=4]"
   ]
  },
  {
   "cell_type": "markdown",
   "metadata": {},
   "source": [
    "**Problem 4:** Use list comprehension syntax to make uppercase and take first 3 characters of all the names that contian letter \"m\" in them. The output will be:\n",
    "\n",
    "['Lia', 'EMM', 'Noah', 'Olivia', 'WIL', 'Ava', 'JAM', 'Isabella']"
   ]
  },
  {
   "cell_type": "code",
   "execution_count": 43,
   "metadata": {},
   "outputs": [],
   "source": [
    "ls2 = [\"Lia\", \"Emma\", \"Noah\", \"Olivia\", \"William\", \"Ava\", \"James\", \"Isabella\"]"
   ]
  },
  {
   "cell_type": "code",
   "execution_count": 44,
   "metadata": {},
   "outputs": [
    {
     "data": {
      "text/plain": [
       "['Lia', 'EMM', 'Noah', 'Olivia', 'WIL', 'Ava', 'JAM', 'Isabella']"
      ]
     },
     "execution_count": 44,
     "metadata": {},
     "output_type": "execute_result"
    }
   ],
   "source": [
    "[a[0:3].upper() if \"m\" in a else a for a in ls2]"
   ]
  },
  {
   "cell_type": "markdown",
   "metadata": {},
   "source": [
    "**Problem 5:** Flatten below list with list comprehension syntax. The output will be:\n",
    "\n",
    "['a', 'b', 'c', 4, 5, 6, True, False, None]"
   ]
  },
  {
   "cell_type": "code",
   "execution_count": 45,
   "metadata": {},
   "outputs": [],
   "source": [
    "ls3 = [[\"a\",\"b\",\"c\"],[4,5,6],[True, False, None]]"
   ]
  },
  {
   "cell_type": "code",
   "execution_count": 46,
   "metadata": {},
   "outputs": [
    {
     "data": {
      "text/plain": [
       "['a', 'b', 'c', 4, 5, 6, True, False, None]"
      ]
     },
     "execution_count": 46,
     "metadata": {},
     "output_type": "execute_result"
    }
   ],
   "source": [
    "[a for b in ls3 for a in b]"
   ]
  },
  {
   "cell_type": "markdown",
   "metadata": {},
   "source": [
    "**Problem 6:** Use list comprehension, formated string literals' (f-strings(Lecture 3 - Topic 4)) and zip syntax to concatentate respective elements of the below lists  with dash(-) and make the output list elements uppercase. Output will be this:\n",
    "\n",
    "['ONE-1-ՄԵԿ', 'TWO-2-ԵՐԿՈՒ', 'THREE-3-ԵՐԵՔ']"
   ]
  },
  {
   "cell_type": "code",
   "execution_count": 56,
   "metadata": {},
   "outputs": [],
   "source": [
    "a = [\"one\", \"two\", \"three\"]\n",
    "b = [1, 2, 3]\n",
    "c = [\"մեկ\",\"երկու\", \"երեք\"]"
   ]
  },
  {
   "cell_type": "code",
   "execution_count": 57,
   "metadata": {},
   "outputs": [
    {
     "data": {
      "text/plain": [
       "['ONE-1-ՄԵԿ', 'TWO-2-ԵՐԿՈՒ', 'THREE-3-ԵՐԵՔ']"
      ]
     },
     "execution_count": 57,
     "metadata": {},
     "output_type": "execute_result"
    }
   ],
   "source": [
    "[f\"{q.upper()}-\" + str(w) + f\"-{e.upper()}\" for q, w, e in zip(a, b,c)] "
   ]
  },
  {
   "cell_type": "markdown",
   "metadata": {},
   "source": [
    "**Problem 7:** Solve the above problem without zip function, using index-based approach mentioned in the lecture of list comprehensions:"
   ]
  },
  {
   "cell_type": "code",
   "execution_count": 58,
   "metadata": {},
   "outputs": [
    {
     "data": {
      "text/plain": [
       "['ONE-1-ՄԵԿ', 'TWO-2-ԵՐԿՈՒ', 'THREE-3-ԵՐԵՔ']"
      ]
     },
     "execution_count": 58,
     "metadata": {},
     "output_type": "execute_result"
    }
   ],
   "source": [
    "[f\"{a[i].upper()}-\" + str(b[i]) + f\"-{c[i].upper()}\" for i in range(len(b))] "
   ]
  },
  {
   "cell_type": "markdown",
   "metadata": {},
   "source": [
    "**Problem 8:** All country football teams in Group A are going to play with all country football teams in Group B. Use list comprehension  and f-strings syntax mentioned above to output the list of all possible game combinations. The output will be this:\n",
    "\n",
    "['Armenia-France', 'Armenia-Spain', 'Armenia-Brazil', 'Armenia-Germany', 'Italy-France', 'Italy-Spain', 'Italy-Brazil', 'Italy-Germany', 'Belgium-France', 'Belgium-Spain', 'Belgium-Brazil', 'Belgium-Germany']"
   ]
  },
  {
   "cell_type": "code",
   "execution_count": 1,
   "metadata": {},
   "outputs": [],
   "source": [
    "Group_A = [\"Armenia\", \"Italy\", \"Belgium\"]\n",
    "Group_B = [\"France\", \"Spain\", \"Brazil\", \"Germany\"]"
   ]
  },
  {
   "cell_type": "code",
   "execution_count": 2,
   "metadata": {},
   "outputs": [
    {
     "data": {
      "text/plain": [
       "['Armenia-France',\n",
       " 'Armenia-Spain',\n",
       " 'Armenia-Brazil',\n",
       " 'Armenia-Germany',\n",
       " 'Italy-France',\n",
       " 'Italy-Spain',\n",
       " 'Italy-Brazil',\n",
       " 'Italy-Germany',\n",
       " 'Belgium-France',\n",
       " 'Belgium-Spain',\n",
       " 'Belgium-Brazil',\n",
       " 'Belgium-Germany']"
      ]
     },
     "execution_count": 2,
     "metadata": {},
     "output_type": "execute_result"
    }
   ],
   "source": [
    "[f\"{Group_A[i]}-{Group_B[j]}\" for i in range(3) for j in range(4)]"
   ]
  },
  {
   "cell_type": "markdown",
   "metadata": {},
   "source": [
    "**Problem 9:** Convert the below code into list comprehension syntax. Must be one line of code."
   ]
  },
  {
   "cell_type": "code",
   "execution_count": 22,
   "metadata": {},
   "outputs": [
    {
     "data": {
      "text/plain": [
       "['Zero',\n",
       " 'Between 1 and 5 both included',\n",
       " 'Between 1 and 5 both included',\n",
       " 'Between 1 and 5 both included',\n",
       " 'Between 1 and 5 both included',\n",
       " 'Between 1 and 5 both included',\n",
       " 'Greater than 5',\n",
       " 'Greater than 5',\n",
       " 'Greater than 5',\n",
       " 'Greater than 5']"
      ]
     },
     "execution_count": 22,
     "metadata": {},
     "output_type": "execute_result"
    }
   ],
   "source": [
    "a = range(10)\n",
    "\n",
    "b=[]\n",
    "for num in a:\n",
    "    if num > 5:\n",
    "        k = \"Greater than 5\"\n",
    "    elif num == 0:\n",
    "        k = \"Zero\"\n",
    "    else:\n",
    "        k = \"Between 1 and 5 both included\"\n",
    "    b.append(k)\n",
    "b"
   ]
  },
  {
   "cell_type": "code",
   "execution_count": 23,
   "metadata": {},
   "outputs": [
    {
     "data": {
      "text/plain": [
       "['Zero',\n",
       " 'Between 1 and 5 both included',\n",
       " 'Between 1 and 5 both included',\n",
       " 'Between 1 and 5 both included',\n",
       " 'Between 1 and 5 both included',\n",
       " 'Between 1 and 5 both included',\n",
       " 'Greater than 5',\n",
       " 'Greater than 5',\n",
       " 'Greater than 5',\n",
       " 'Greater than 5']"
      ]
     },
     "execution_count": 23,
     "metadata": {},
     "output_type": "execute_result"
    }
   ],
   "source": [
    "[\"Zero\" if b == 0 else \"Greater than 5\" if b > 5 else \"Between 1 and 5 both included\" for b in range(10)]"
   ]
  },
  {
   "cell_type": "markdown",
   "metadata": {},
   "source": [
    "**Problem 10:** Convert the below code into list comprehension syntax. You must add one line of code given lists x and y."
   ]
  },
  {
   "cell_type": "code",
   "execution_count": null,
   "metadata": {},
   "outputs": [],
   "source": [
    "x = [1, 8, 25]\n",
    "y = [2, 3, 16]"
   ]
  },
  {
   "cell_type": "code",
   "execution_count": 62,
   "metadata": {},
   "outputs": [
    {
     "data": {
      "text/plain": [
       "[2, 3, 16, 16, 24, 128, 50, 75, 400]"
      ]
     },
     "execution_count": 62,
     "metadata": {},
     "output_type": "execute_result"
    }
   ],
   "source": [
    "n = []\n",
    "for i in x:\n",
    "    for j in y:\n",
    "        n.append(i*j)\n",
    "n"
   ]
  },
  {
   "cell_type": "code",
   "execution_count": 24,
   "metadata": {},
   "outputs": [],
   "source": [
    "x = [1, 8, 25]\n",
    "y = [2, 3, 16]"
   ]
  },
  {
   "cell_type": "code",
   "execution_count": 25,
   "metadata": {},
   "outputs": [
    {
     "data": {
      "text/plain": [
       "[2, 3, 16, 16, 24, 128, 50, 75, 400]"
      ]
     },
     "execution_count": 25,
     "metadata": {},
     "output_type": "execute_result"
    }
   ],
   "source": [
    "[i*j for i in x for j in y]"
   ]
  },
  {
   "cell_type": "markdown",
   "metadata": {},
   "source": [
    "**Problem 11:** Convert the below code into list comprehension syntax. You must add one line of code given list ls3."
   ]
  },
  {
   "cell_type": "code",
   "execution_count": 27,
   "metadata": {},
   "outputs": [
    {
     "data": {
      "text/plain": [
       "['a', 'b', 'c', 4, 5, 6, True, False, None]"
      ]
     },
     "execution_count": 27,
     "metadata": {},
     "output_type": "execute_result"
    }
   ],
   "source": [
    "ls3 = [[\"a\",\"b\",\"c\"],[4,5,6],[True, False, None]]\n",
    "v = []\n",
    "for i in ls3:\n",
    "    for j in i:\n",
    "        v.append(j)\n",
    "v   "
   ]
  },
  {
   "cell_type": "code",
   "execution_count": 37,
   "metadata": {},
   "outputs": [],
   "source": [
    "ls3 = [[\"a\",\"b\",\"c\"],[4,5,6],[True, False, None]]"
   ]
  },
  {
   "cell_type": "code",
   "execution_count": 38,
   "metadata": {},
   "outputs": [
    {
     "data": {
      "text/plain": [
       "['a', 'b', 'c', 4, 5, 6, True, False, None]"
      ]
     },
     "execution_count": 38,
     "metadata": {},
     "output_type": "execute_result"
    }
   ],
   "source": [
    "[v[i] for v in ls3 for i in range(len(ls3))]"
   ]
  },
  {
   "cell_type": "markdown",
   "metadata": {},
   "source": [
    "## Dictionary comprehensions"
   ]
  },
  {
   "cell_type": "markdown",
   "metadata": {},
   "source": [
    "**Problem 12:** Use dictionary comprehension syntax to get this output based on keys and values lists given below:\n",
    "\n",
    "{'one': 1, 'two': 2, 'there': 3}\n",
    "\n",
    "Must be one line of code."
   ]
  },
  {
   "cell_type": "code",
   "execution_count": 30,
   "metadata": {},
   "outputs": [],
   "source": [
    "keys = [\"one\", \"two\", \"there\"]\n",
    "values = [1, 2, 3]"
   ]
  },
  {
   "cell_type": "code",
   "execution_count": 31,
   "metadata": {},
   "outputs": [
    {
     "data": {
      "text/plain": [
       "{'one': 1, 'two': 2, 'there': 3}"
      ]
     },
     "execution_count": 31,
     "metadata": {},
     "output_type": "execute_result"
    }
   ],
   "source": [
    "{i:j for i,j in zip(keys, values)}"
   ]
  },
  {
   "cell_type": "markdown",
   "metadata": {},
   "source": [
    "**Problem 13:** Use dictionary comprehension syntax to create dictionary based on \"names\" and \"numbers\" lists given below where the names start with \"A\" and numbers contain \"8\". The output will be this:\n",
    "\n",
    "{'Anna': '21-73-28', 'Aram': '28-73-36'}\n",
    "\n",
    "Must be one line of code."
   ]
  },
  {
   "cell_type": "code",
   "execution_count": 41,
   "metadata": {},
   "outputs": [],
   "source": [
    "names = ['Hayk', 'Ani', 'Anna', 'Aram', 'Vahe']\n",
    "numbers = [\"16-73-12\", \"26-73-15\", \"21-73-28\", \"28-73-36\", \"26-73-48\"]"
   ]
  },
  {
   "cell_type": "code",
   "execution_count": 42,
   "metadata": {},
   "outputs": [
    {
     "data": {
      "text/plain": [
       "{'Anna': '21-73-28', 'Aram': '28-73-36'}"
      ]
     },
     "execution_count": 42,
     "metadata": {},
     "output_type": "execute_result"
    }
   ],
   "source": [
    "{i:j for i,j in zip(names, numbers) if \"A\" in i and \"8\" in j}"
   ]
  },
  {
   "cell_type": "markdown",
   "metadata": {},
   "source": [
    "**Problem 14:** Use dictonary comprehension syntax to keep the dictionary values that are divisable by 2 as they are and make remaining values zero. You must add one line of code given dictionary num_dict. The output will be this:\n",
    "\n",
    "{'one': 0, 'two': 2, 'three': 0, 'four': 4, 'five': 0}"
   ]
  },
  {
   "cell_type": "code",
   "execution_count": 47,
   "metadata": {},
   "outputs": [],
   "source": [
    "num_dict = {'one':1,'two':2,'three':3, 'four':4,'five':5}"
   ]
  },
  {
   "cell_type": "code",
   "execution_count": 48,
   "metadata": {},
   "outputs": [
    {
     "data": {
      "text/plain": [
       "{'one': 0, 'two': 2, 'three': 0, 'four': 4, 'five': 0}"
      ]
     },
     "execution_count": 48,
     "metadata": {},
     "output_type": "execute_result"
    }
   ],
   "source": [
    "{i:j if j % 2 == 0 else 0 for i, j in num_dict.items()}"
   ]
  },
  {
   "cell_type": "markdown",
   "metadata": {},
   "source": [
    "**Problem 15:** Convert the below code into dictionary comprehension syntax. You must add one line of code given lists \"keys\" and \"values\"."
   ]
  },
  {
   "cell_type": "code",
   "execution_count": 49,
   "metadata": {},
   "outputs": [
    {
     "data": {
      "text/plain": [
       "{'r': 'red', 'g': 'green', 'b': 'blue'}"
      ]
     },
     "execution_count": 49,
     "metadata": {},
     "output_type": "execute_result"
    }
   ],
   "source": [
    "keys=[\"r\",\"g\",\"b\"]\n",
    "values=[\"red\",\"green\",\"blue\"]\n",
    "f = {}\n",
    "for i,j in zip(keys, values):\n",
    "    f.update({i:j})\n",
    "f"
   ]
  },
  {
   "cell_type": "code",
   "execution_count": 50,
   "metadata": {},
   "outputs": [],
   "source": [
    "keys=[\"r\",\"g\",\"b\"]\n",
    "values=[\"red\",\"green\",\"blue\"]"
   ]
  },
  {
   "cell_type": "code",
   "execution_count": 51,
   "metadata": {},
   "outputs": [
    {
     "data": {
      "text/plain": [
       "{'r': 'red', 'g': 'green', 'b': 'blue'}"
      ]
     },
     "execution_count": 51,
     "metadata": {},
     "output_type": "execute_result"
    }
   ],
   "source": [
    "{keys[i]:values[i] for i in range(len(keys))}"
   ]
  },
  {
   "cell_type": "markdown",
   "metadata": {},
   "source": [
    "**Problem 16:** Use dictionary comprehension syntax and enumerate() function to create a dictionary where the uppercased names will be values and indicies in string format will be keys. You must add one line of code given list \"names\". The output will be this:\n",
    "{'0': 'HAYK', '1': 'ANI', '2': 'ANNA', '3': 'ARAM', '4': 'VAHE'}"
   ]
  },
  {
   "cell_type": "code",
   "execution_count": 52,
   "metadata": {},
   "outputs": [],
   "source": [
    "names = ['Hayk', 'Ani', 'Anna', 'Aram', 'Vahe']"
   ]
  },
  {
   "cell_type": "code",
   "execution_count": 53,
   "metadata": {},
   "outputs": [
    {
     "data": {
      "text/plain": [
       "{'0': 'HAYK', '1': 'ANI', '2': 'ANNA', '3': 'ARAM', '4': 'VAHE'}"
      ]
     },
     "execution_count": 53,
     "metadata": {},
     "output_type": "execute_result"
    }
   ],
   "source": [
    "{str(i):j.upper() for i,j in enumerate(names, 0)}"
   ]
  },
  {
   "cell_type": "markdown",
   "metadata": {},
   "source": [
    "**Problem 17:**\n",
    "\n",
    "Given a dictionary, swap the keys and values of the dictionary using dictionary comprehension syntax."
   ]
  },
  {
   "cell_type": "code",
   "execution_count": 62,
   "metadata": {},
   "outputs": [],
   "source": [
    "test={1:2,3:4,5:6}"
   ]
  },
  {
   "cell_type": "code",
   "execution_count": 63,
   "metadata": {},
   "outputs": [
    {
     "data": {
      "text/plain": [
       "{2: 1, 4: 3, 6: 5}"
      ]
     },
     "execution_count": 63,
     "metadata": {},
     "output_type": "execute_result"
    }
   ],
   "source": [
    "{i: j for j, i in test.items()}"
   ]
  },
  {
   "cell_type": "markdown",
   "metadata": {},
   "source": [
    "## Set comprehensions"
   ]
  },
  {
   "cell_type": "markdown",
   "metadata": {},
   "source": [
    "**Problem 18:** Use set comprehension syntax to add \"Name: \" before each element of the set. You must add one line of code given set \"names\". The output will be this:\n",
    "{'Name :Ani', 'Name :Anna', 'Name :Aram', 'Name :Hayk', 'Name :Vahe'}"
   ]
  },
  {
   "cell_type": "code",
   "execution_count": 5,
   "metadata": {},
   "outputs": [],
   "source": [
    "names = {'Hayk', 'Ani', 'Anna', 'Aram', 'Vahe'}"
   ]
  },
  {
   "cell_type": "code",
   "execution_count": 6,
   "metadata": {},
   "outputs": [
    {
     "data": {
      "text/plain": [
       "{'Name :Ani', 'Name :Anna', 'Name :Aram', 'Name :Hayk', 'Name :Vahe'}"
      ]
     },
     "execution_count": 6,
     "metadata": {},
     "output_type": "execute_result"
    }
   ],
   "source": [
    "{\"Name :\"+i for i in names}"
   ]
  },
  {
   "cell_type": "markdown",
   "metadata": {},
   "source": [
    "### Medium Problems"
   ]
  },
  {
   "cell_type": "markdown",
   "metadata": {},
   "source": [
    "**Problem 19:**\n",
    "\n",
    "Write a list comprehension to flatten the nested list below.\n",
    "\n",
    "**Hint:** In my solution I used 4 different list comprehensions and isinstance() function for checking whether the element is a list or int. "
   ]
  },
  {
   "cell_type": "code",
   "execution_count": 13,
   "metadata": {},
   "outputs": [],
   "source": [
    "flatten_me = [[[1,2]],[[[3],[4]]],[5,[6,7]]]"
   ]
  },
  {
   "cell_type": "code",
   "execution_count": 14,
   "metadata": {},
   "outputs": [
    {
     "name": "stdout",
     "output_type": "stream",
     "text": [
      "[1, 2, 3, 4, 5, 6, 7]\n"
     ]
    }
   ],
   "source": [
    "k = [i for j in flatten_me for i in (j if isinstance(j, list) else (j,))]\n",
    "\n",
    "x = [i for j in k for i in (j if isinstance(j, list) else (j,))]\n",
    "\n",
    "y = [i for j in x for i in (j if isinstance(j, list) else (j,))]\n",
    "\n",
    "print(y)"
   ]
  },
  {
   "cell_type": "markdown",
   "metadata": {},
   "source": [
    "**Problem 20:**\n",
    "\n",
    "Generate all possible subsets of the given list using list comprehensions. The output must be a list of sets where each set is a subset of the list. You can read about related set theory [here](https://en.wikipedia.org/wiki/Power_set).\n",
    "\n",
    "**Hint:** You may need to use bitwise operators. [This discussion](https://stackoverflow.com/questions/1482308/how-to-get-all-subsets-of-a-set-powerset) may be helpful."
   ]
  },
  {
   "cell_type": "code",
   "execution_count": 17,
   "metadata": {},
   "outputs": [
    {
     "data": {
      "text/plain": [
       "[[],\n",
       " [1],\n",
       " [2],\n",
       " [1, 2],\n",
       " [3],\n",
       " [1, 3],\n",
       " [2, 3],\n",
       " [1, 2, 3],\n",
       " [4],\n",
       " [1, 4],\n",
       " [2, 4],\n",
       " [1, 2, 4],\n",
       " [3, 4],\n",
       " [1, 3, 4],\n",
       " [2, 3, 4],\n",
       " [1, 2, 3, 4],\n",
       " [5],\n",
       " [1, 5],\n",
       " [2, 5],\n",
       " [1, 2, 5],\n",
       " [3, 5],\n",
       " [1, 3, 5],\n",
       " [2, 3, 5],\n",
       " [1, 2, 3, 5],\n",
       " [4, 5],\n",
       " [1, 4, 5],\n",
       " [2, 4, 5],\n",
       " [1, 2, 4, 5],\n",
       " [3, 4, 5],\n",
       " [1, 3, 4, 5],\n",
       " [2, 3, 4, 5],\n",
       " [1, 2, 3, 4, 5],\n",
       " [6],\n",
       " [1, 6],\n",
       " [2, 6],\n",
       " [1, 2, 6],\n",
       " [3, 6],\n",
       " [1, 3, 6],\n",
       " [2, 3, 6],\n",
       " [1, 2, 3, 6],\n",
       " [4, 6],\n",
       " [1, 4, 6],\n",
       " [2, 4, 6],\n",
       " [1, 2, 4, 6],\n",
       " [3, 4, 6],\n",
       " [1, 3, 4, 6],\n",
       " [2, 3, 4, 6],\n",
       " [1, 2, 3, 4, 6],\n",
       " [5, 6],\n",
       " [1, 5, 6],\n",
       " [2, 5, 6],\n",
       " [1, 2, 5, 6],\n",
       " [3, 5, 6],\n",
       " [1, 3, 5, 6],\n",
       " [2, 3, 5, 6],\n",
       " [1, 2, 3, 5, 6],\n",
       " [4, 5, 6],\n",
       " [1, 4, 5, 6],\n",
       " [2, 4, 5, 6],\n",
       " [1, 2, 4, 5, 6],\n",
       " [3, 4, 5, 6],\n",
       " [1, 3, 4, 5, 6],\n",
       " [2, 3, 4, 5, 6],\n",
       " [1, 2, 3, 4, 5, 6],\n",
       " [7],\n",
       " [1, 7],\n",
       " [2, 7],\n",
       " [1, 2, 7],\n",
       " [3, 7],\n",
       " [1, 3, 7],\n",
       " [2, 3, 7],\n",
       " [1, 2, 3, 7],\n",
       " [4, 7],\n",
       " [1, 4, 7],\n",
       " [2, 4, 7],\n",
       " [1, 2, 4, 7],\n",
       " [3, 4, 7],\n",
       " [1, 3, 4, 7],\n",
       " [2, 3, 4, 7],\n",
       " [1, 2, 3, 4, 7],\n",
       " [5, 7],\n",
       " [1, 5, 7],\n",
       " [2, 5, 7],\n",
       " [1, 2, 5, 7],\n",
       " [3, 5, 7],\n",
       " [1, 3, 5, 7],\n",
       " [2, 3, 5, 7],\n",
       " [1, 2, 3, 5, 7],\n",
       " [4, 5, 7],\n",
       " [1, 4, 5, 7],\n",
       " [2, 4, 5, 7],\n",
       " [1, 2, 4, 5, 7],\n",
       " [3, 4, 5, 7],\n",
       " [1, 3, 4, 5, 7],\n",
       " [2, 3, 4, 5, 7],\n",
       " [1, 2, 3, 4, 5, 7],\n",
       " [6, 7],\n",
       " [1, 6, 7],\n",
       " [2, 6, 7],\n",
       " [1, 2, 6, 7],\n",
       " [3, 6, 7],\n",
       " [1, 3, 6, 7],\n",
       " [2, 3, 6, 7],\n",
       " [1, 2, 3, 6, 7],\n",
       " [4, 6, 7],\n",
       " [1, 4, 6, 7],\n",
       " [2, 4, 6, 7],\n",
       " [1, 2, 4, 6, 7],\n",
       " [3, 4, 6, 7],\n",
       " [1, 3, 4, 6, 7],\n",
       " [2, 3, 4, 6, 7],\n",
       " [1, 2, 3, 4, 6, 7],\n",
       " [5, 6, 7],\n",
       " [1, 5, 6, 7],\n",
       " [2, 5, 6, 7],\n",
       " [1, 2, 5, 6, 7],\n",
       " [3, 5, 6, 7],\n",
       " [1, 3, 5, 6, 7],\n",
       " [2, 3, 5, 6, 7],\n",
       " [1, 2, 3, 5, 6, 7],\n",
       " [4, 5, 6, 7],\n",
       " [1, 4, 5, 6, 7],\n",
       " [2, 4, 5, 6, 7],\n",
       " [1, 2, 4, 5, 6, 7],\n",
       " [3, 4, 5, 6, 7],\n",
       " [1, 3, 4, 5, 6, 7],\n",
       " [2, 3, 4, 5, 6, 7],\n",
       " [1, 2, 3, 4, 5, 6, 7],\n",
       " [8],\n",
       " [1, 8],\n",
       " [2, 8],\n",
       " [1, 2, 8],\n",
       " [3, 8],\n",
       " [1, 3, 8],\n",
       " [2, 3, 8],\n",
       " [1, 2, 3, 8],\n",
       " [4, 8],\n",
       " [1, 4, 8],\n",
       " [2, 4, 8],\n",
       " [1, 2, 4, 8],\n",
       " [3, 4, 8],\n",
       " [1, 3, 4, 8],\n",
       " [2, 3, 4, 8],\n",
       " [1, 2, 3, 4, 8],\n",
       " [5, 8],\n",
       " [1, 5, 8],\n",
       " [2, 5, 8],\n",
       " [1, 2, 5, 8],\n",
       " [3, 5, 8],\n",
       " [1, 3, 5, 8],\n",
       " [2, 3, 5, 8],\n",
       " [1, 2, 3, 5, 8],\n",
       " [4, 5, 8],\n",
       " [1, 4, 5, 8],\n",
       " [2, 4, 5, 8],\n",
       " [1, 2, 4, 5, 8],\n",
       " [3, 4, 5, 8],\n",
       " [1, 3, 4, 5, 8],\n",
       " [2, 3, 4, 5, 8],\n",
       " [1, 2, 3, 4, 5, 8],\n",
       " [6, 8],\n",
       " [1, 6, 8],\n",
       " [2, 6, 8],\n",
       " [1, 2, 6, 8],\n",
       " [3, 6, 8],\n",
       " [1, 3, 6, 8],\n",
       " [2, 3, 6, 8],\n",
       " [1, 2, 3, 6, 8],\n",
       " [4, 6, 8],\n",
       " [1, 4, 6, 8],\n",
       " [2, 4, 6, 8],\n",
       " [1, 2, 4, 6, 8],\n",
       " [3, 4, 6, 8],\n",
       " [1, 3, 4, 6, 8],\n",
       " [2, 3, 4, 6, 8],\n",
       " [1, 2, 3, 4, 6, 8],\n",
       " [5, 6, 8],\n",
       " [1, 5, 6, 8],\n",
       " [2, 5, 6, 8],\n",
       " [1, 2, 5, 6, 8],\n",
       " [3, 5, 6, 8],\n",
       " [1, 3, 5, 6, 8],\n",
       " [2, 3, 5, 6, 8],\n",
       " [1, 2, 3, 5, 6, 8],\n",
       " [4, 5, 6, 8],\n",
       " [1, 4, 5, 6, 8],\n",
       " [2, 4, 5, 6, 8],\n",
       " [1, 2, 4, 5, 6, 8],\n",
       " [3, 4, 5, 6, 8],\n",
       " [1, 3, 4, 5, 6, 8],\n",
       " [2, 3, 4, 5, 6, 8],\n",
       " [1, 2, 3, 4, 5, 6, 8],\n",
       " [7, 8],\n",
       " [1, 7, 8],\n",
       " [2, 7, 8],\n",
       " [1, 2, 7, 8],\n",
       " [3, 7, 8],\n",
       " [1, 3, 7, 8],\n",
       " [2, 3, 7, 8],\n",
       " [1, 2, 3, 7, 8],\n",
       " [4, 7, 8],\n",
       " [1, 4, 7, 8],\n",
       " [2, 4, 7, 8],\n",
       " [1, 2, 4, 7, 8],\n",
       " [3, 4, 7, 8],\n",
       " [1, 3, 4, 7, 8],\n",
       " [2, 3, 4, 7, 8],\n",
       " [1, 2, 3, 4, 7, 8],\n",
       " [5, 7, 8],\n",
       " [1, 5, 7, 8],\n",
       " [2, 5, 7, 8],\n",
       " [1, 2, 5, 7, 8],\n",
       " [3, 5, 7, 8],\n",
       " [1, 3, 5, 7, 8],\n",
       " [2, 3, 5, 7, 8],\n",
       " [1, 2, 3, 5, 7, 8],\n",
       " [4, 5, 7, 8],\n",
       " [1, 4, 5, 7, 8],\n",
       " [2, 4, 5, 7, 8],\n",
       " [1, 2, 4, 5, 7, 8],\n",
       " [3, 4, 5, 7, 8],\n",
       " [1, 3, 4, 5, 7, 8],\n",
       " [2, 3, 4, 5, 7, 8],\n",
       " [1, 2, 3, 4, 5, 7, 8],\n",
       " [6, 7, 8],\n",
       " [1, 6, 7, 8],\n",
       " [2, 6, 7, 8],\n",
       " [1, 2, 6, 7, 8],\n",
       " [3, 6, 7, 8],\n",
       " [1, 3, 6, 7, 8],\n",
       " [2, 3, 6, 7, 8],\n",
       " [1, 2, 3, 6, 7, 8],\n",
       " [4, 6, 7, 8],\n",
       " [1, 4, 6, 7, 8],\n",
       " [2, 4, 6, 7, 8],\n",
       " [1, 2, 4, 6, 7, 8],\n",
       " [3, 4, 6, 7, 8],\n",
       " [1, 3, 4, 6, 7, 8],\n",
       " [2, 3, 4, 6, 7, 8],\n",
       " [1, 2, 3, 4, 6, 7, 8],\n",
       " [5, 6, 7, 8],\n",
       " [1, 5, 6, 7, 8],\n",
       " [2, 5, 6, 7, 8],\n",
       " [1, 2, 5, 6, 7, 8],\n",
       " [3, 5, 6, 7, 8],\n",
       " [1, 3, 5, 6, 7, 8],\n",
       " [2, 3, 5, 6, 7, 8],\n",
       " [1, 2, 3, 5, 6, 7, 8],\n",
       " [4, 5, 6, 7, 8],\n",
       " [1, 4, 5, 6, 7, 8],\n",
       " [2, 4, 5, 6, 7, 8],\n",
       " [1, 2, 4, 5, 6, 7, 8],\n",
       " [3, 4, 5, 6, 7, 8],\n",
       " [1, 3, 4, 5, 6, 7, 8],\n",
       " [2, 3, 4, 5, 6, 7, 8],\n",
       " [1, 2, 3, 4, 5, 6, 7, 8]]"
      ]
     },
     "execution_count": 17,
     "metadata": {},
     "output_type": "execute_result"
    }
   ],
   "source": [
    "subsetme=[1,2,3,4,5,6,7,8]\n",
    "\n",
    "[[list(subsetme)[k] for k in range(len(subsetme)) if i & 1 << k] for i in range(2**len(subsetme))]"
   ]
  },
  {
   "cell_type": "markdown",
   "metadata": {},
   "source": [
    "**Problem 21:**"
   ]
  },
  {
   "cell_type": "markdown",
   "metadata": {},
   "source": [
    "Tribonnaci numbers are a sequence of number that start with 0, 1, 1 and every next element is the sum of last three elements.\n",
    "\n",
    "Formally tribonnaci is defined as follows.<br>\n",
    "T(0)=0<br>\n",
    "T(1)=1<br>\n",
    "T(2)=1<br>\n",
    "T(n)=T(n-1)+T(n-2)+T(n-3) | n >= 3<br>\n",
    "\n",
    "Use list comprehension syntax to generate the list of first 100 tribonacci numbers."
   ]
  },
  {
   "cell_type": "code",
   "execution_count": 21,
   "metadata": {},
   "outputs": [
    {
     "name": "stdout",
     "output_type": "stream",
     "text": [
      "[0, 1, 1, 2, 4, 7, 13, 24, 44, 81, 149, 274, 504, 927, 1705, 3136, 5768, 10609, 19513, 35890, 66012, 121415, 223317, 410744, 755476, 1389537, 2555757, 4700770, 8646064, 15902591, 29249425, 53798080, 98950096, 181997601, 334745777, 615693474, 1132436852, 2082876103, 3831006429, 7046319384, 12960201916, 23837527729, 43844049029, 80641778674, 148323355432, 272809183135, 501774317241, 922906855808, 1697490356184, 3122171529233, 5742568741225, 10562230626642, 19426970897100, 35731770264967, 65720971788709, 120879712950776, 222332455004452, 408933139743937, 752145307699165, 1383410902447554, 2544489349890656, 4680045560037375, 8607945812375585, 15832480722303616, 29120472094716576, 53560898629395777, 98513851446415969, 181195222170528322, 333269972246340068, 612979045863284359, 1127444240280152749, 2073693258389777176, 3814116544533214284, 7015254043203144209, 12903063846126135669, 23732434433862494162, 43650752323191774040, 80286250603180403871, 147669437360234672073, 271606440286606849984, 499562128250021925928, 918838005896863447985, 1690006574433492223897, 3108406708580377597810, 5717251288910733269692, 10515664571924603091399, 19341322569415713958901, 35574238430251050319992, 65431225571591367370292, 120346786571258131649185, 221352250573100549339469, 407130262715950048358946, 748829299860308729347600, 1377311813149359327046015, 2533271375725618104752561, 4659412488735286161146176, 8569995677610263592944752, 15762679542071167858843489, 28992087708416717612934417, 53324762928098149064722658, 98079530178586034536500564]\n"
     ]
    }
   ],
   "source": [
    "trib = []\n",
    "trib.append(0) #first element\n",
    "trib.append(1) #second element\n",
    "trib.append(1) #third element\n",
    "[trib.append(trib[k-1]+trib[k-2]+trib[k-3]) for k in range(3,101)]\n",
    "print(trib)"
   ]
  },
  {
   "cell_type": "markdown",
   "metadata": {},
   "source": [
    "### Hard problems"
   ]
  },
  {
   "cell_type": "markdown",
   "metadata": {},
   "source": [
    "**Problem 22:** Kung-fu mathematician"
   ]
  },
  {
   "cell_type": "markdown",
   "metadata": {},
   "source": [
    "Once every two thousand years a great demon Oshu comes out of the depths of the earth to fight the best of the best in martial arts. You as the greatest of all kung-fu mathematicians were assigned to defeat the great demon. In order to defeat Oshu you need to hit certain points at his body otherwise the hits will heal the demon.\n",
    "\n",
    "You are given a list representing the successful and unsuccessful hits on the demon. Your goal is to calculate the [maximum sum contiguous segment](https://www.geeksforgeeks.org/largest-sum-contiguous-subarray/) of the list. If the sum of those values is greater than 20, print \"Demon is slayed!\", otherwise \"Still work to do!\".\n",
    "\n",
    "**Restriction:** You are only allowed to use list comprehensions and Python built-in functions in this task."
   ]
  },
  {
   "cell_type": "code",
   "execution_count": 48,
   "metadata": {},
   "outputs": [],
   "source": [
    "# An example which does not cover all edge cases\n",
    "test = [-1,2,3,-100,4,5,-7] # In this list max sum segment is [4,5] and the sum of the values is 9."
   ]
  },
  {
   "cell_type": "code",
   "execution_count": 49,
   "metadata": {},
   "outputs": [
    {
     "name": "stdout",
     "output_type": "stream",
     "text": [
      "9\n",
      "Still work to do!\n"
     ]
    },
    {
     "data": {
      "text/plain": [
       "[None]"
      ]
     },
     "execution_count": 49,
     "metadata": {},
     "output_type": "execute_result"
    }
   ],
   "source": [
    "#test = [15,15,-7,-7,34,0,2,-4,-23]\n",
    "maxsumsegment = [sum(test[i:j]) for i in range(len(test)+1) for j in range(i, len(test)+1)]\n",
    "print(max(maxsumsegment))\n",
    "[print(\"Demon is slayed!\") if max(maxsumsegment) > 20 else print(\"Still work to do!\")]"
   ]
  },
  {
   "cell_type": "markdown",
   "metadata": {},
   "source": [
    "## Optional\n",
    "\n",
    "If you solve this problem and later ask me for a reference for your further studies, I promise to give it."
   ]
  },
  {
   "cell_type": "markdown",
   "metadata": {},
   "source": [
    "**Problem 24:** Pentagon"
   ]
  },
  {
   "cell_type": "markdown",
   "metadata": {},
   "source": [
    "Imagine you have hacked Pentagon and you have noticed a strange list written inside the file called \"TOP SECRET!\".\n",
    "\n",
    "You immidiately deduced that the integers in the list represent ascii character codes, and you were milliseconds away from decrypting the secret string.\n",
    "\n",
    " However suddenly a powerful mangetic storm hit the computers of Pentagon and for some misterious reason all the digits in the list got xored with all the other digits except themselves. \"Luckily the size of the original list was even\" you thought and started coding the program.\n",
    "\n",
    " \n",
    " Your goal is to write a function that will take list of integers as intput and recover the original list. After recovering the original list the program should decrypt the secret message.\n",
    " \n",
    " \n",
    " Try your program on the following secret message.\n",
    " \\[48, 25, 26, 26, 25, 1, 41, 2, 30, 19, 41, 1, 30, 31, 2, 19, 41, 4, 23, 20, 20, 31, 2, 41, 23, 24, 18, 41, 1, 23, 29, 19, 41, 3, 6, 87\\]\n",
    "\n",
    " **Restiction:** You are only allowed to use list comprehensions in this task.\n",
    " \n",
    " **Hint:** Use xor properties(we did not cover it during our lectures)."
   ]
  },
  {
   "cell_type": "code",
   "execution_count": null,
   "metadata": {},
   "outputs": [],
   "source": []
  },
  {
   "cell_type": "markdown",
   "metadata": {},
   "source": [
    "# END"
   ]
  }
 ],
 "metadata": {
  "kernelspec": {
   "display_name": "Python 3",
   "language": "python",
   "name": "python3"
  },
  "language_info": {
   "codemirror_mode": {
    "name": "ipython",
    "version": 3
   },
   "file_extension": ".py",
   "mimetype": "text/x-python",
   "name": "python",
   "nbconvert_exporter": "python",
   "pygments_lexer": "ipython3",
   "version": "3.8.5"
  }
 },
 "nbformat": 4,
 "nbformat_minor": 2
}
