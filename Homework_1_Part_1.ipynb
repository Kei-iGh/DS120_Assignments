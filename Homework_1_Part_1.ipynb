{
 "cells": [
  {
   "cell_type": "markdown",
   "metadata": {
    "id": "sIN1YTuMbgkm"
   },
   "source": [
    "## Homework 1 - Part 1"
   ]
  },
  {
   "cell_type": "markdown",
   "metadata": {
    "id": "cnZ3dC71bgko"
   },
   "source": [
    "**Problem 1** <br><br>\n",
    "Python is a dynamically-typed language. What does this mean?"
   ]
  },
  {
   "cell_type": "markdown",
   "metadata": {
    "id": "UsQjvRrQbgko"
   },
   "source": [
    "**Answer**: Python interpretor checks the types of variables as the code runs, it does not compile everyhting and only then run the code. That allows us to change the types of variables as we type our code."
   ]
  },
  {
   "cell_type": "markdown",
   "metadata": {
    "id": "ohDIL0bIbgkp"
   },
   "source": [
    "**Problem 2** <br><br>\n",
    "Which of the following cannot be an identifier and why?<br>\n",
    "Integra1 , _PythON@ , _I-LOVE_PYTHON, d34DB33F, 1337Python, lambda"
   ]
  },
  {
   "cell_type": "markdown",
   "metadata": {
    "id": "yr9EPI0bbgkp"
   },
   "source": [
    "**Answer**: \n",
    "\n",
    "_PythON@ because identifiers cannot include @\n",
    "\n",
    "\n",
    "_I-LOVE_PYTHON because identifiers cannot include -\n",
    "\n",
    "\n",
    "1337Python bacause identifiers cannot have a number in the beginning\n",
    "\n",
    "\n",
    "lambda because it is one of the 33 specially reserved words that cannot be used as identifiers\n"
   ]
  },
  {
   "cell_type": "markdown",
   "metadata": {
    "id": "9IQmhGkSbgkp"
   },
   "source": [
    "**Problem 3** <br><br>\n",
    "Why isn’t it recommended to use built-in functions like list, dict, int, sum or max as identifiers?"
   ]
  },
  {
   "cell_type": "markdown",
   "metadata": {
    "id": "x2iINqMCbgkw"
   },
   "source": [
    "**Answer**: Because by doing that we are assigning values to those functions, and if we want to use them later in our code, we will have issues. We would need to delete them, so the value would also be deleted, and only then we will be able to use the functions. "
   ]
  },
  {
   "cell_type": "markdown",
   "metadata": {
    "id": "FZdptuQVbgkx"
   },
   "source": [
    "**Problem 4** <br><br>\n",
    "In the statements bellow what is the final value of a and d and why?"
   ]
  },
  {
   "cell_type": "code",
   "execution_count": 1,
   "metadata": {
    "id": "YUjJ0UR3bgkx",
    "outputId": "48e9b232-e0bb-4662-8e69-00691672939e"
   },
   "outputs": [],
   "source": [
    "# Case 1\n",
    "a = 1\n",
    "b = a\n",
    "b = 5\n",
    "\n",
    "# Case 2\n",
    "c = 2\n",
    "d = c\n",
    "c = 7"
   ]
  },
  {
   "cell_type": "markdown",
   "metadata": {
    "id": "-Cobf3bsbgky"
   },
   "source": [
    "**Answer**: \n",
    "\n",
    "Case 1: a = 1, b = 5. Nothing will happen to a, because the id of a is not changed, however, the id of b is changed. \n",
    "\n",
    "\n",
    "Case 2: c = 7, d = 2. In this case, we changed the id of c and the id of d is the same."
   ]
  },
  {
   "cell_type": "markdown",
   "metadata": {
    "id": "ezm6TLOQbgky"
   },
   "source": [
    "**Problem 5** <br><br>\n",
    "Assign values 5, “a”, 8.2 to identifiers a, b, c respectively in two different ways, using only one line of code for each way."
   ]
  },
  {
   "cell_type": "code",
   "execution_count": 2,
   "metadata": {
    "id": "rE-MlYpibgky"
   },
   "outputs": [],
   "source": [
    "a = 5; b = \"a\"; c = 8.2"
   ]
  },
  {
   "cell_type": "code",
   "execution_count": 3,
   "metadata": {
    "id": "aKSc60u_bgkz"
   },
   "outputs": [],
   "source": [
    "a, b, c = 5, \"a\", 8.2 "
   ]
  },
  {
   "cell_type": "markdown",
   "metadata": {
    "id": "q9RbXg6Xbgkz"
   },
   "source": [
    "**Problem 6** <br><br>\n",
    "Swap values of p and q in 7 distinct ways, using only one line of code for each way and without using other identifiers."
   ]
  },
  {
   "cell_type": "code",
   "execution_count": 6,
   "metadata": {
    "id": "qqmE_tnibgkz"
   },
   "outputs": [],
   "source": [
    "p = 5\n",
    "q = 2"
   ]
  },
  {
   "cell_type": "code",
   "execution_count": 1,
   "metadata": {
    "colab": {
     "base_uri": "https://localhost:8080/"
    },
    "id": "2Io9yfhQbgkz",
    "outputId": "ab62453a-8b31-4ee5-aebe-2fd6d2640abf"
   },
   "outputs": [],
   "source": [
    "p = 2; q = 5\n",
    "p, q = q, p\n",
    "p = p + q; q = p - q; p = p - q\n",
    "p = (p & q) + (p | q); q = p - (q & p); p = p - (q & p)\n",
    "p = p * q; q = p // q; p = p // q\n",
    "p = p ^ q; q = p ^ q; p = p ^ q\n",
    "p = 11 >> 1; q = q >> 1\n",
    "p = ord('\\x02'); q = ord('\\x05')\n",
    "import random; random.seed(1); p = random.randint(0, 10); q = random.randint(3, 20)\n",
    "import random; p = random.randrange(2, 3); q = random.randrange(5, 6);"
   ]
  },
  {
   "cell_type": "markdown",
   "metadata": {
    "id": "Y_NcAMWubgkz"
   },
   "source": [
    "**Problem 7** <br><br>\n",
    "Which of the following data types are mutable?\n",
    "\n",
    "None, bool, int, float, str, list, tuple, set, frozenset, dict"
   ]
  },
  {
   "cell_type": "markdown",
   "metadata": {
    "id": "gN6JY6nebgk0"
   },
   "source": [
    "**Answer**: list, set, dict"
   ]
  },
  {
   "cell_type": "markdown",
   "metadata": {
    "id": "CiJq-oh2bgk0"
   },
   "source": [
    "**Problem 8** <br><br>\n",
    "What is the bool value of the following objects and explain why it is so?"
   ]
  },
  {
   "cell_type": "code",
   "execution_count": null,
   "metadata": {
    "id": "TPL5HSS1bgk0"
   },
   "outputs": [],
   "source": [
    "None;  dict(); [None]; 0; False; True; int; {None:None}; bool"
   ]
  },
  {
   "cell_type": "markdown",
   "metadata": {
    "id": "oixbehiBbgk1"
   },
   "source": [
    "**Answer**: \n",
    "\n",
    "None returns False, because it means the is no value\n",
    "\n",
    "dict() returns False, because again, it does not have any value\n",
    "\n",
    "[None] returns True, because it is a non-empty value.\n",
    "\n",
    "0 returns False, no value.\n",
    "\n",
    "False returns False, because the condition is False.\n",
    "\n",
    "True returns True, because the condition is True.\n",
    "\n",
    "int returns True, because integers start with 1 and any number other than 0 returns true, as it is not empty.\n",
    "\n",
    "{None:None} returns True, because it is a non-empty set.\n",
    "\n",
    "bool returns True, because it is a type that has possible outputs.\n"
   ]
  },
  {
   "cell_type": "markdown",
   "metadata": {
    "id": "KaIZkf17bgk1"
   },
   "source": [
    "**Problem 9** <br><br>\n",
    "Find at least three pairs of one decimal place floats a and b in range (0,1) such that a+b has a rounding problem. \n",
    "Explain why the rounding problem occurs.\n",
    "\n",
    "\n",
    "**Note**: one decimal place floats are 0.1,0.2... and so on.\n",
    "\n",
    "**Example**: One example of such a pair are 0.1 and 0.2 because 0.1 + 0.2 = 0.30000000000000004. The example pair cannot be used in the answer."
   ]
  },
  {
   "cell_type": "markdown",
   "metadata": {},
   "source": [
    "**Answer**:\n",
    "\n",
    "0.1 + 0.7\n",
    "\n",
    "0.2 + 0.4\n",
    "\n",
    "0.2 + 0.7\n",
    "\n",
    "0.3 + 0.6\n",
    "\n",
    "\n",
    "This problem happens because we cannot represent certain float numbers, like 0.1, 0.6, 0.3, etc, in the base 10 and/or in the base 2 using less than 17 decimal digits. This number 17 comes from our 64 bit memory computers. It does not allow the float numbers to exceed the length of 17 decimal digits."
   ]
  },
  {
   "cell_type": "markdown",
   "metadata": {
    "id": "IVTpEmzIbgk1"
   },
   "source": [
    "**Problem 10** <br><br>\n",
    "Generate two random integers and check whether they have the same memory address without using \"id\" function."
   ]
  },
  {
   "cell_type": "code",
   "execution_count": 2,
   "metadata": {
    "id": "MjHIeeFtbgk2",
    "outputId": "79eadfb4-9692-45f1-c731-692416ad9dde"
   },
   "outputs": [
    {
     "name": "stdout",
     "output_type": "stream",
     "text": [
      "8\n",
      "8\n"
     ]
    },
    {
     "data": {
      "text/plain": [
       "True"
      ]
     },
     "execution_count": 2,
     "metadata": {},
     "output_type": "execute_result"
    }
   ],
   "source": [
    "import random\n",
    "a = random.randint(1, 10)\n",
    "b = random.randint(1, 10)\n",
    "print(a)\n",
    "print(b)\n",
    "a is b"
   ]
  },
  {
   "cell_type": "markdown",
   "metadata": {
    "id": "Pix642STbgk2"
   },
   "source": [
    "**Problem 11** <br><br>\n",
    "Generate a random floating-point number in the range \\[0,1\\) and find the floor and ceil of that number."
   ]
  },
  {
   "cell_type": "code",
   "execution_count": 3,
   "metadata": {
    "id": "GEC_yC38bgk2",
    "outputId": "1e3cf032-d4eb-49fc-b6ea-f8ce7487b405"
   },
   "outputs": [
    {
     "name": "stdout",
     "output_type": "stream",
     "text": [
      "0.47224524357611664\n",
      "floor 0\n",
      "ceil 1\n"
     ]
    }
   ],
   "source": [
    "import random\n",
    "import math\n",
    "a = random.random()\n",
    "print(a)\n",
    "print('floor', math.floor(a))\n",
    "print('ceil', math.ceil(a))"
   ]
  },
  {
   "cell_type": "markdown",
   "metadata": {
    "id": "W7m4NebYbgk2"
   },
   "source": [
    "**Problem 12** <br><br>\n",
    "Generate 3 random integers in the range \\[0,50\\] and find the maximum value among them."
   ]
  },
  {
   "cell_type": "code",
   "execution_count": 4,
   "metadata": {
    "colab": {
     "base_uri": "https://localhost:8080/"
    },
    "id": "ja9E2bjtbgk3",
    "outputId": "99a4287f-1130-4746-b42a-0beba049c68d"
   },
   "outputs": [
    {
     "name": "stdout",
     "output_type": "stream",
     "text": [
      "24\n",
      "50\n",
      "13\n",
      "The maximum number is 50\n"
     ]
    }
   ],
   "source": [
    "import random\n",
    "a = random.randint(0, 50)\n",
    "b = random.randint(0, 50)\n",
    "c = random.randint(0, 50)\n",
    "print(a)\n",
    "print(b)\n",
    "print(c)\n",
    "print('The maximum number is', max(a, b, c))"
   ]
  },
  {
   "cell_type": "markdown",
   "metadata": {
    "id": "5Og25Gvebgk3"
   },
   "source": [
    "**Problem 13** <br><br>\n",
    "Generate a random integer in range \\[100000,999999\\] and convert the integer into a string. \n",
    "After that randomly select two characters from the obtained string and check whether their absolute difference is greater than 5."
   ]
  },
  {
   "cell_type": "code",
   "execution_count": 13,
   "metadata": {
    "colab": {
     "base_uri": "https://localhost:8080/"
    },
    "id": "mVibSN4fbgk3",
    "outputId": "468ea652-858a-45bf-8c7e-8c1f52e3cede"
   },
   "outputs": [
    {
     "name": "stdout",
     "output_type": "stream",
     "text": [
      "<class 'str'>\n",
      "819830\n",
      "1\n",
      "8\n",
      "7\n"
     ]
    },
    {
     "data": {
      "text/plain": [
       "True"
      ]
     },
     "execution_count": 13,
     "metadata": {},
     "output_type": "execute_result"
    }
   ],
   "source": [
    "import random\n",
    "a = str(random.randint(100000,999999))\n",
    "print(type(a))\n",
    "print(a)\n",
    "a1 = random.choice(a)\n",
    "a2 = random.choice(a)\n",
    "print(a1)\n",
    "print(a2)\n",
    "absolutediff = abs(abs(int(a1)) - abs(int(a2)))\n",
    "print(absolutediff)\n",
    "absolutediff > 5 "
   ]
  },
  {
   "cell_type": "markdown",
   "metadata": {
    "id": "6Rbum3UZbgk4"
   },
   "source": [
    "**Problem 14** <br><br>\n",
    "Generate a random even integer in the range [0,100] inclusive and get the string representation of the number without using the str() function"
   ]
  },
  {
   "cell_type": "code",
   "execution_count": 267,
   "metadata": {
    "colab": {
     "base_uri": "https://localhost:8080/",
     "height": 35
    },
    "id": "3ddY1Xuibgk4",
    "outputId": "2bfd92cf-17aa-4684-a15c-3ccad47e4565"
   },
   "outputs": [
    {
     "name": "stdout",
     "output_type": "stream",
     "text": [
      "94\n",
      "^\n"
     ]
    }
   ],
   "source": [
    "import random\n",
    "a = random.randrange(0, 101, 2)\n",
    "print(a)\n",
    "int(a)\n",
    "print(chr(a))"
   ]
  },
  {
   "cell_type": "markdown",
   "metadata": {
    "id": "_gSgtVkjbgk4"
   },
   "source": [
    "**Problem 15** <br><br>\n",
    "Explain the difference between 'is' and '==' operators and explain why they cannot be used interchangeably."
   ]
  },
  {
   "cell_type": "markdown",
   "metadata": {
    "id": "Qo0gyWtHGcVY"
   },
   "source": [
    "**Answer**:\n",
    "\n",
    "When we use ==, we compare the equality between objects. But when we use is, we compare the ids of the objects. For example, if we have two variables a and b which are equal (a == b returns True), then their ids can be the same or different (depending on the variables). For instance, we can have a = 270; b = 270; if we check a is b, it will return False, because  variables with assigned numebrs which are higher than 256 have different ids."
   ]
  },
  {
   "cell_type": "markdown",
   "metadata": {
    "id": "DoOjHqWDbgk4"
   },
   "source": [
    "**Problem 16** <br><br>\n",
    "Imagine there is a circle of radius 1 centered at the coordinate (0,0). Generate two random floats a and b between [-2,2]\n",
    "and check whether the point (a, b) is within the circle."
   ]
  },
  {
   "cell_type": "code",
   "execution_count": 94,
   "metadata": {
    "colab": {
     "base_uri": "https://localhost:8080/"
    },
    "id": "nT2UNAmibgk5",
    "outputId": "a961692a-a95e-4d94-81c9-c16a7185ffca"
   },
   "outputs": [
    {
     "name": "stdout",
     "output_type": "stream",
     "text": [
      "0.025237252657884124\n",
      "-0.29333989188962706\n",
      "0.08668521109553597\n",
      "The point (a, b) is within the circle.\n"
     ]
    }
   ],
   "source": [
    "import random\n",
    "a = random.uniform(-2, 2)\n",
    "b = random.uniform(-2, 2)\n",
    "print(a)\n",
    "print(b)\n",
    "distance = (((a**2) + (b**2)))\n",
    "print(distance)\n",
    "if distance < 1:\n",
    "    print('The point (a, b) is within the circle.')\n",
    "elif distance > 1:\n",
    "    print('The point (a, b) is outside the circle.')\n",
    "else:\n",
    "    print('The point (a, b) is on the circle.')"
   ]
  },
  {
   "cell_type": "markdown",
   "metadata": {
    "id": "vR63ePl7bgk5"
   },
   "source": [
    "**Problem 17** <br><br>\n",
    "Assign 42 to identifiers m and n, using the minimum number of characters."
   ]
  },
  {
   "cell_type": "code",
   "execution_count": null,
   "metadata": {
    "id": "0Xlsfk_9bgk5"
   },
   "outputs": [],
   "source": [
    "m=n=42"
   ]
  },
  {
   "cell_type": "markdown",
   "metadata": {
    "id": "1h48PXY0bgk5"
   },
   "source": [
    "**Problem 18** <br><br>\n",
    "Check if the number is within the range [-5,256], using the minimum number of characters.\n",
    "\n",
    "**Note**: There is no need to write an if statement. All that is required is an expression with a minimum number of characters which returns True or False."
   ]
  },
  {
   "cell_type": "code",
   "execution_count": 273,
   "metadata": {
    "id": "vr75hTXNbgk5"
   },
   "outputs": [],
   "source": [
    "x=25\n",
    "## x=25 is not counted in your solution"
   ]
  },
  {
   "cell_type": "code",
   "execution_count": 274,
   "metadata": {
    "id": "DigdBZN8bgk6",
    "outputId": "a030c850-ab7c-46d5-de6c-fad1dabeeec0"
   },
   "outputs": [
    {
     "name": "stderr",
     "output_type": "stream",
     "text": [
      "<>:1: SyntaxWarning: \"is\" with a literal. Did you mean \"==\"?\n",
      "<>:1: SyntaxWarning: \"is\" with a literal. Did you mean \"==\"?\n",
      "<ipython-input-274-f6486d1bcf49>:1: SyntaxWarning: \"is\" with a literal. Did you mean \"==\"?\n",
      "  x is 25\n"
     ]
    },
    {
     "data": {
      "text/plain": [
       "True"
      ]
     },
     "execution_count": 274,
     "metadata": {},
     "output_type": "execute_result"
    }
   ],
   "source": [
    "x is 25"
   ]
  },
  {
   "cell_type": "markdown",
   "metadata": {
    "id": "r8ZTEq9ibgk6"
   },
   "source": [
    "**Problem 19** <br><br>\n",
    "Below are given three objects. Assign the value of a to b, the value of b to c and the value of c to a, using the minimum number of characters."
   ]
  },
  {
   "cell_type": "code",
   "execution_count": 275,
   "metadata": {
    "id": "KB6gCaXBbgk6",
    "outputId": "ed857a97-344d-4753-c651-9379155ba370"
   },
   "outputs": [],
   "source": [
    "a=5\n",
    "b=4\n",
    "c=3\n",
    "d=4\n",
    "b=a\n",
    "a=c\n",
    "c=d"
   ]
  },
  {
   "cell_type": "markdown",
   "metadata": {
    "id": "xpMUXbZ-bgk7"
   },
   "source": [
    "**Problem 20** <br><br>\n",
    "Exponentiation operator is the only operator in Python that has right-to-left associativity. Explain why this statement is True or False."
   ]
  },
  {
   "cell_type": "markdown",
   "metadata": {
    "id": "mWcVCtuybgk7"
   },
   "source": [
    "**Answer**: It is False, the following operators also have right-to-left associativity: await (Await Expression); +, -, ~ Unary plus(Positive sign), Unary minus(Negative sign), Bitwise NOT. All of these operators are evaluated from right to left."
   ]
  },
  {
   "cell_type": "markdown",
   "metadata": {
    "id": "GJVE1LmUbgk8"
   },
   "source": [
    "**Problem 21** <br>\n",
    "\n",
    "What is the order of evaluation in expressions bellow?\n",
    "\n",
    "a) 4-~-5<br>\n",
    "b) 2 ** 3 ** 8<br>\n",
    "c) False or False and False and True<br>\n",
    "d) True or False & True<br>"
   ]
  },
  {
   "cell_type": "markdown",
   "metadata": {
    "id": "8dk4yvtnN_30"
   },
   "source": [
    "**Answer**: \n",
    "\n",
    "a)First, it calculates bitwise not of -5, then subtracts the outcome from 4. 4-(~-5)\n",
    "\n",
    "b)First, it calculates 3 ** 8 and then 2 ** (3 ** 8)\n",
    "\n",
    "c)First, it does False and False, then the outcome of it and True, then False or the outcome. False or ((False and False) and True)\n",
    "\n",
    "d)First, it does False & True, then True or the outcome. True or (False & True)"
   ]
  },
  {
   "cell_type": "markdown",
   "metadata": {
    "id": "09D_Tw9zNs8n"
   },
   "source": [
    "**Problem 22** <br>\n",
    "\n",
    "Answer to the corresponding question for each expression:"
   ]
  },
  {
   "cell_type": "code",
   "execution_count": 2,
   "metadata": {},
   "outputs": [
    {
     "name": "stdout",
     "output_type": "stream",
     "text": [
      "0\n",
      "True\n",
      "True\n"
     ]
    }
   ],
   "source": [
    "#a) Why is the result not equal to 5?\n",
    "print(5 >> 3 << 3)\n",
    "\n",
    "#b) Why is the output True? \n",
    "a=4506; b=4506; print(a is not b)      \n",
    "\n",
    "#c) Why is the output True?\n",
    "print(pow(2,16) is not 2**16)      "
   ]
  },
  {
   "cell_type": "markdown",
   "metadata": {
    "id": "9_mm19DJPL_c"
   },
   "source": [
    "**Answer**:\n",
    "\n",
    "a) Because the binary of 5 is 0101 and when we use bitwise shift we get 0, as 101 has shifted to the left, leaving only 0. Then we use bitwise shift again, but this time we add three 0s to the right, and in this case, 0 does not change, because 0 is the same as 0000.\n",
    "\n",
    "b) As those numbers are greater than 256, both of them have an individual id, and when we use the expression is or is not, we are checking if their ids are the same. Hence, in this situatuion, they have different ids.\n",
    "\n",
    "c) Similar to b) we have a number which is greater that 256, thats why their ids are different. For example, if we had print(pow(2,1) is not 2 ** 1; it whould have given us False, because the number in this case is 2 which is in the range [-5; 256]."
   ]
  },
  {
   "cell_type": "markdown",
   "metadata": {
    "id": "pZr8sx6qbgk3"
   },
   "source": [
    "**Problem 23** <br><br>\n",
    "Explain what random.seed() does and come up with at least one real-life use case of it."
   ]
  },
  {
   "cell_type": "markdown",
   "metadata": {
    "id": "N6ZFtmYRbgk4"
   },
   "source": [
    "**Answer**:\n",
    "\n",
    "It is a function with no outcomes, which helps us in getting fixed outcomes when using other random module functions. If we use the seed function before any other random module function, we will get consistent outcomes from the random module functions. They will still return us random outcomes, but they will not change each time we run the code. It is useful when people are working in teams. If they set a certain seed in their code, everyone who is working on it will see the same outcomes of the random functions. \n",
    "\n",
    "Also, seeds are used in video games. For example, in a game called Minecraft, each time a player generates a new world, a new map is created and a random seed (9 digit number) is generated. If this player shares the seed of that world, other players can also generate the same world in their game, just by using the seed.\n"
   ]
  },
  {
   "cell_type": "markdown",
   "metadata": {
    "id": "fWcn0Bkwbgk7"
   },
   "source": [
    "# END"
   ]
  }
 ],
 "metadata": {
  "colab": {
   "name": "Redacted_Homework_1_Part_1.ipynb",
   "provenance": []
  },
  "kernelspec": {
   "display_name": "Python 3",
   "language": "python",
   "name": "python3"
  },
  "language_info": {
   "codemirror_mode": {
    "name": "ipython",
    "version": 3
   },
   "file_extension": ".py",
   "mimetype": "text/x-python",
   "name": "python",
   "nbconvert_exporter": "python",
   "pygments_lexer": "ipython3",
   "version": "3.8.5"
  },
  "nteract": {
   "version": "0.28.0"
  }
 },
 "nbformat": 4,
 "nbformat_minor": 1
}
